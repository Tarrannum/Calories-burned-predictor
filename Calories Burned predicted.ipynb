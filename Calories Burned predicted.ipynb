{
 "cells": [
  {
   "cell_type": "markdown",
   "metadata": {},
   "source": [
    "We all know that the amount of calories we burn is all dependent on the number of physical movements and exercises we do.In this notebook we will look at that with the help of a dataset and solve a regression problem"
   ]
  },
  {
   "cell_type": "markdown",
   "metadata": {},
   "source": [
    "# Import Libraries"
   ]
  },
  {
   "cell_type": "code",
   "execution_count": 28,
   "metadata": {},
   "outputs": [],
   "source": [
    "import pandas as pd\n",
    "import numpy as np\n",
    "import matplotlib.pyplot as plt\n",
    "import seaborn as sns\n",
    "%matplotlib inline\n",
    "import warnings\n",
    "warnings.filterwarnings('ignore')\n",
    "from sklearn.preprocessing import StandardScaler\n",
    "from sklearn.metrics import mean_squared_error\n",
    "from sklearn.metrics import r2_score\n",
    "from sklearn.model_selection import train_test_split\n",
    "from sklearn.linear_model import LinearRegression\n",
    "from sklearn.ensemble import RandomForestRegressor"
   ]
  },
  {
   "cell_type": "markdown",
   "metadata": {},
   "source": [
    "# Load and combine dataset"
   ]
  },
  {
   "cell_type": "code",
   "execution_count": 29,
   "metadata": {},
   "outputs": [
    {
     "data": {
      "text/html": [
       "<div>\n",
       "<style scoped>\n",
       "    .dataframe tbody tr th:only-of-type {\n",
       "        vertical-align: middle;\n",
       "    }\n",
       "\n",
       "    .dataframe tbody tr th {\n",
       "        vertical-align: top;\n",
       "    }\n",
       "\n",
       "    .dataframe thead th {\n",
       "        text-align: right;\n",
       "    }\n",
       "</style>\n",
       "<table border=\"1\" class=\"dataframe\">\n",
       "  <thead>\n",
       "    <tr style=\"text-align: right;\">\n",
       "      <th></th>\n",
       "      <th>User_ID</th>\n",
       "      <th>Gender</th>\n",
       "      <th>Age</th>\n",
       "      <th>Height</th>\n",
       "      <th>Weight</th>\n",
       "      <th>Duration</th>\n",
       "      <th>Heart_Rate</th>\n",
       "      <th>Body_Temp</th>\n",
       "      <th>Calories</th>\n",
       "    </tr>\n",
       "  </thead>\n",
       "  <tbody>\n",
       "    <tr>\n",
       "      <th>0</th>\n",
       "      <td>14733363</td>\n",
       "      <td>male</td>\n",
       "      <td>68</td>\n",
       "      <td>190.0</td>\n",
       "      <td>94.0</td>\n",
       "      <td>29.0</td>\n",
       "      <td>105.0</td>\n",
       "      <td>40.8</td>\n",
       "      <td>231.0</td>\n",
       "    </tr>\n",
       "    <tr>\n",
       "      <th>1</th>\n",
       "      <td>14861698</td>\n",
       "      <td>female</td>\n",
       "      <td>20</td>\n",
       "      <td>166.0</td>\n",
       "      <td>60.0</td>\n",
       "      <td>14.0</td>\n",
       "      <td>94.0</td>\n",
       "      <td>40.3</td>\n",
       "      <td>66.0</td>\n",
       "    </tr>\n",
       "    <tr>\n",
       "      <th>2</th>\n",
       "      <td>11179863</td>\n",
       "      <td>male</td>\n",
       "      <td>69</td>\n",
       "      <td>179.0</td>\n",
       "      <td>79.0</td>\n",
       "      <td>5.0</td>\n",
       "      <td>88.0</td>\n",
       "      <td>38.7</td>\n",
       "      <td>26.0</td>\n",
       "    </tr>\n",
       "    <tr>\n",
       "      <th>3</th>\n",
       "      <td>16180408</td>\n",
       "      <td>female</td>\n",
       "      <td>34</td>\n",
       "      <td>179.0</td>\n",
       "      <td>71.0</td>\n",
       "      <td>13.0</td>\n",
       "      <td>100.0</td>\n",
       "      <td>40.5</td>\n",
       "      <td>71.0</td>\n",
       "    </tr>\n",
       "    <tr>\n",
       "      <th>4</th>\n",
       "      <td>17771927</td>\n",
       "      <td>female</td>\n",
       "      <td>27</td>\n",
       "      <td>154.0</td>\n",
       "      <td>58.0</td>\n",
       "      <td>10.0</td>\n",
       "      <td>81.0</td>\n",
       "      <td>39.8</td>\n",
       "      <td>35.0</td>\n",
       "    </tr>\n",
       "  </tbody>\n",
       "</table>\n",
       "</div>"
      ],
      "text/plain": [
       "    User_ID  Gender  Age  Height  Weight  Duration  Heart_Rate  Body_Temp  \\\n",
       "0  14733363    male   68   190.0    94.0      29.0       105.0       40.8   \n",
       "1  14861698  female   20   166.0    60.0      14.0        94.0       40.3   \n",
       "2  11179863    male   69   179.0    79.0       5.0        88.0       38.7   \n",
       "3  16180408  female   34   179.0    71.0      13.0       100.0       40.5   \n",
       "4  17771927  female   27   154.0    58.0      10.0        81.0       39.8   \n",
       "\n",
       "   Calories  \n",
       "0     231.0  \n",
       "1      66.0  \n",
       "2      26.0  \n",
       "3      71.0  \n",
       "4      35.0  "
      ]
     },
     "execution_count": 29,
     "metadata": {},
     "output_type": "execute_result"
    }
   ],
   "source": [
    "exercise = pd.read_csv('exercise.csv')\n",
    "calories = pd.read_csv('calories.csv')\n",
    "df=pd.merge(exercise, calories, on = 'User_ID')\n",
    "df.head()"
   ]
  },
  {
   "cell_type": "code",
   "execution_count": 30,
   "metadata": {},
   "outputs": [
    {
     "data": {
      "text/plain": [
       "(15000, 9)"
      ]
     },
     "execution_count": 30,
     "metadata": {},
     "output_type": "execute_result"
    }
   ],
   "source": [
    "df.shape"
   ]
  },
  {
   "cell_type": "code",
   "execution_count": 31,
   "metadata": {},
   "outputs": [],
   "source": [
    "def detailed(data):\n",
    "    ddata = pd.DataFrame(index=['total', '% missing' , 'data Type', 'range'])\n",
    "    \n",
    "    for cols in data.columns:\n",
    "        size = data[cols].size\n",
    "        pnul=round(data[cols].isna().sum()/size,2)\n",
    "        nul_val = f\"{pnul*100}% - {data[cols].isna().sum()}/{size}\"\n",
    "        dtype = 'categorical' if data[cols].dtype == object else 'Numerical' \n",
    "        rng = f\"{len(data[cols].unique())} labels\"\\\n",
    "        if dtype == 'categorical' else\\\n",
    "        f\"{data[cols].min()}-{data[cols].max()}\"\n",
    "        ddata[cols] = [size,nul_val,dtype,rng]\n",
    "    return ddata"
   ]
  },
  {
   "cell_type": "code",
   "execution_count": 32,
   "metadata": {},
   "outputs": [
    {
     "data": {
      "text/html": [
       "<div>\n",
       "<style scoped>\n",
       "    .dataframe tbody tr th:only-of-type {\n",
       "        vertical-align: middle;\n",
       "    }\n",
       "\n",
       "    .dataframe tbody tr th {\n",
       "        vertical-align: top;\n",
       "    }\n",
       "\n",
       "    .dataframe thead th {\n",
       "        text-align: right;\n",
       "    }\n",
       "</style>\n",
       "<table border=\"1\" class=\"dataframe\">\n",
       "  <thead>\n",
       "    <tr style=\"text-align: right;\">\n",
       "      <th></th>\n",
       "      <th>User_ID</th>\n",
       "      <th>Gender</th>\n",
       "      <th>Age</th>\n",
       "      <th>Height</th>\n",
       "      <th>Weight</th>\n",
       "      <th>Duration</th>\n",
       "      <th>Heart_Rate</th>\n",
       "      <th>Body_Temp</th>\n",
       "      <th>Calories</th>\n",
       "    </tr>\n",
       "  </thead>\n",
       "  <tbody>\n",
       "    <tr>\n",
       "      <th>total</th>\n",
       "      <td>15000</td>\n",
       "      <td>15000</td>\n",
       "      <td>15000</td>\n",
       "      <td>15000</td>\n",
       "      <td>15000</td>\n",
       "      <td>15000</td>\n",
       "      <td>15000</td>\n",
       "      <td>15000</td>\n",
       "      <td>15000</td>\n",
       "    </tr>\n",
       "    <tr>\n",
       "      <th>% missing</th>\n",
       "      <td>0.0% - 0/15000</td>\n",
       "      <td>0.0% - 0/15000</td>\n",
       "      <td>0.0% - 0/15000</td>\n",
       "      <td>0.0% - 0/15000</td>\n",
       "      <td>0.0% - 0/15000</td>\n",
       "      <td>0.0% - 0/15000</td>\n",
       "      <td>0.0% - 0/15000</td>\n",
       "      <td>0.0% - 0/15000</td>\n",
       "      <td>0.0% - 0/15000</td>\n",
       "    </tr>\n",
       "    <tr>\n",
       "      <th>data Type</th>\n",
       "      <td>Numerical</td>\n",
       "      <td>categorical</td>\n",
       "      <td>Numerical</td>\n",
       "      <td>Numerical</td>\n",
       "      <td>Numerical</td>\n",
       "      <td>Numerical</td>\n",
       "      <td>Numerical</td>\n",
       "      <td>Numerical</td>\n",
       "      <td>Numerical</td>\n",
       "    </tr>\n",
       "    <tr>\n",
       "      <th>range</th>\n",
       "      <td>10001159-19999647</td>\n",
       "      <td>2 labels</td>\n",
       "      <td>20-79</td>\n",
       "      <td>123.0-222.0</td>\n",
       "      <td>36.0-132.0</td>\n",
       "      <td>1.0-30.0</td>\n",
       "      <td>67.0-128.0</td>\n",
       "      <td>37.1-41.5</td>\n",
       "      <td>1.0-314.0</td>\n",
       "    </tr>\n",
       "  </tbody>\n",
       "</table>\n",
       "</div>"
      ],
      "text/plain": [
       "                     User_ID          Gender             Age          Height  \\\n",
       "total                  15000           15000           15000           15000   \n",
       "% missing     0.0% - 0/15000  0.0% - 0/15000  0.0% - 0/15000  0.0% - 0/15000   \n",
       "data Type          Numerical     categorical       Numerical       Numerical   \n",
       "range      10001159-19999647        2 labels           20-79     123.0-222.0   \n",
       "\n",
       "                   Weight        Duration      Heart_Rate       Body_Temp  \\\n",
       "total               15000           15000           15000           15000   \n",
       "% missing  0.0% - 0/15000  0.0% - 0/15000  0.0% - 0/15000  0.0% - 0/15000   \n",
       "data Type       Numerical       Numerical       Numerical       Numerical   \n",
       "range          36.0-132.0        1.0-30.0      67.0-128.0       37.1-41.5   \n",
       "\n",
       "                 Calories  \n",
       "total               15000  \n",
       "% missing  0.0% - 0/15000  \n",
       "data Type       Numerical  \n",
       "range           1.0-314.0  "
      ]
     },
     "execution_count": 32,
     "metadata": {},
     "output_type": "execute_result"
    }
   ],
   "source": [
    "detailed(df)"
   ]
  },
  {
   "cell_type": "code",
   "execution_count": 33,
   "metadata": {},
   "outputs": [
    {
     "data": {
      "text/plain": [
       "<AxesSubplot:>"
      ]
     },
     "execution_count": 33,
     "metadata": {},
     "output_type": "execute_result"
    },
    {
     "data": {
      "image/png": "[encoded data removed]",
      "text/plain": [
       "<Figure size 432x288 with 1 Axes>"
      ]
     },
     "metadata": {
      "needs_background": "light"
     },
     "output_type": "display_data"
    }
   ],
   "source": [
    "df['Gender'].value_counts().plot(kind='bar')"
   ]
  },
  {
   "cell_type": "markdown",
   "metadata": {},
   "source": [
    "# Distribution of numeric features"
   ]
  },
  {
   "cell_type": "code",
   "execution_count": 34,
   "metadata": {},
   "outputs": [
    {
     "name": "stdout",
     "output_type": "stream",
     "text": [
      "Numeric Features:\n",
      "    User_ID  Age  Height  Weight  Duration  Heart_Rate  Body_Temp  Calories\n",
      "0  14733363   68   190.0    94.0      29.0       105.0       40.8     231.0\n",
      "1  14861698   20   166.0    60.0      14.0        94.0       40.3      66.0\n",
      "2  11179863   69   179.0    79.0       5.0        88.0       38.7      26.0\n",
      "3  16180408   34   179.0    71.0      13.0       100.0       40.5      71.0\n",
      "4  17771927   27   154.0    58.0      10.0        81.0       39.8      35.0\n",
      "============================================================\n"
     ]
    }
   ],
   "source": [
    "#identify numeric data\n",
    "numeric_data=df.select_dtypes(include=np.number)\n",
    "   \n",
    "print(\"Numeric Features:\")\n",
    "print(numeric_data.head())\n",
    "print(\"===\"*20)"
   ]
  },
  {
   "cell_type": "code",
   "execution_count": 35,
   "metadata": {},
   "outputs": [
    {
     "data": {
      "image/png": "[encoded data removed]",
      "text/plain": [
       "<Figure size 1440x360 with 1 Axes>"
      ]
     },
     "metadata": {
      "needs_background": "light"
     },
     "output_type": "display_data"
    },
    {
     "data": {
      "image/png": "[encoded data removed]",
      "text/plain": [
       "<Figure size 1440x360 with 1 Axes>"
      ]
     },
     "metadata": {
      "needs_background": "light"
     },
     "output_type": "display_data"
    },
    {
     "data": {
      "image/png": "[encoded data removed]",
      "text/plain": [
       "<Figure size 1440x360 with 1 Axes>"
      ]
     },
     "metadata": {
      "needs_background": "light"
     },
     "output_type": "display_data"
    },
    {
     "data": {
      "image/png": "[encoded data removed]",
      "text/plain": [
       "<Figure size 1440x360 with 1 Axes>"
      ]
     },
     "metadata": {
      "needs_background": "light"
     },
     "output_type": "display_data"
    },
    {
     "data": {
      "image/png": "[encoded data removed]",
      "text/plain": [
       "<Figure size 1440x360 with 1 Axes>"
      ]
     },
     "metadata": {
      "needs_background": "light"
     },
     "output_type": "display_data"
    },
    {
     "data": {
      "image/png": "[encoded data removed]",
      "text/plain": [
       "<Figure size 1440x360 with 1 Axes>"
      ]
     },
     "metadata": {
      "needs_background": "light"
     },
     "output_type": "display_data"
    },
    {
     "data": {
      "image/png": "[encoded data removed]",
      "text/plain": [
       "<Figure size 1440x360 with 1 Axes>"
      ]
     },
     "metadata": {
      "needs_background": "light"
     },
     "output_type": "display_data"
    },
    {
     "data": {
      "image/png": "[encoded data removed]",
      "text/plain": [
       "<Figure size 1440x360 with 1 Axes>"
      ]
     },
     "metadata": {
      "needs_background": "light"
     },
     "output_type": "display_data"
    }
   ],
   "source": [
    "#plotting chart for all numerical variables\n",
    "numeric_col = numeric_data.columns\n",
    "for column in numeric_col:\n",
    "    plt.figure(figsize=(20,5))\n",
    "    plt.subplot(121)\n",
    "    sns.distplot(df[column])\n",
    "    plt.title(column)"
   ]
  },
  {
   "cell_type": "markdown",
   "metadata": {},
   "source": [
    "We can ignore UserID here.Age,Calories burned and body teperature are skewed and rest of the numeric features follow a normal distribution"
   ]
  },
  {
   "cell_type": "code",
   "execution_count": 36,
   "metadata": {},
   "outputs": [
    {
     "data": {
      "image/png": "[encoded data removed]",
      "text/plain": [
       "<Figure size 432x288 with 1 Axes>"
      ]
     },
     "metadata": {
      "needs_background": "light"
     },
     "output_type": "display_data"
    }
   ],
   "source": [
    "Calorie = df.groupby('Calories').mean()[['Duration', 'Heart_Rate']].plot.line()\n"
   ]
  },
  {
   "cell_type": "markdown",
   "metadata": {},
   "source": [
    "1.More the duration of excercise more are the calories burned.\n",
    "\n",
    "2.More the Heart Rate during excercise more are the calories burned."
   ]
  },
  {
   "cell_type": "markdown",
   "metadata": {},
   "source": [
    "# Scaling the features"
   ]
  },
  {
   "cell_type": "code",
   "execution_count": 37,
   "metadata": {},
   "outputs": [
    {
     "data": {
      "text/html": [
       "<div>\n",
       "<style scoped>\n",
       "    .dataframe tbody tr th:only-of-type {\n",
       "        vertical-align: middle;\n",
       "    }\n",
       "\n",
       "    .dataframe tbody tr th {\n",
       "        vertical-align: top;\n",
       "    }\n",
       "\n",
       "    .dataframe thead th {\n",
       "        text-align: right;\n",
       "    }\n",
       "</style>\n",
       "<table border=\"1\" class=\"dataframe\">\n",
       "  <thead>\n",
       "    <tr style=\"text-align: right;\">\n",
       "      <th></th>\n",
       "      <th>Age</th>\n",
       "      <th>Height</th>\n",
       "      <th>Weight</th>\n",
       "      <th>Duration</th>\n",
       "      <th>Heart_Rate</th>\n",
       "      <th>Body_Temp</th>\n",
       "      <th>Calories</th>\n",
       "    </tr>\n",
       "  </thead>\n",
       "  <tbody>\n",
       "    <tr>\n",
       "      <th>0</th>\n",
       "      <td>68</td>\n",
       "      <td>190.0</td>\n",
       "      <td>94.0</td>\n",
       "      <td>29.0</td>\n",
       "      <td>105.0</td>\n",
       "      <td>40.8</td>\n",
       "      <td>231.0</td>\n",
       "    </tr>\n",
       "    <tr>\n",
       "      <th>1</th>\n",
       "      <td>20</td>\n",
       "      <td>166.0</td>\n",
       "      <td>60.0</td>\n",
       "      <td>14.0</td>\n",
       "      <td>94.0</td>\n",
       "      <td>40.3</td>\n",
       "      <td>66.0</td>\n",
       "    </tr>\n",
       "    <tr>\n",
       "      <th>2</th>\n",
       "      <td>69</td>\n",
       "      <td>179.0</td>\n",
       "      <td>79.0</td>\n",
       "      <td>5.0</td>\n",
       "      <td>88.0</td>\n",
       "      <td>38.7</td>\n",
       "      <td>26.0</td>\n",
       "    </tr>\n",
       "    <tr>\n",
       "      <th>3</th>\n",
       "      <td>34</td>\n",
       "      <td>179.0</td>\n",
       "      <td>71.0</td>\n",
       "      <td>13.0</td>\n",
       "      <td>100.0</td>\n",
       "      <td>40.5</td>\n",
       "      <td>71.0</td>\n",
       "    </tr>\n",
       "    <tr>\n",
       "      <th>4</th>\n",
       "      <td>27</td>\n",
       "      <td>154.0</td>\n",
       "      <td>58.0</td>\n",
       "      <td>10.0</td>\n",
       "      <td>81.0</td>\n",
       "      <td>39.8</td>\n",
       "      <td>35.0</td>\n",
       "    </tr>\n",
       "  </tbody>\n",
       "</table>\n",
       "</div>"
      ],
      "text/plain": [
       "   Age  Height  Weight  Duration  Heart_Rate  Body_Temp  Calories\n",
       "0   68   190.0    94.0      29.0       105.0       40.8     231.0\n",
       "1   20   166.0    60.0      14.0        94.0       40.3      66.0\n",
       "2   69   179.0    79.0       5.0        88.0       38.7      26.0\n",
       "3   34   179.0    71.0      13.0       100.0       40.5      71.0\n",
       "4   27   154.0    58.0      10.0        81.0       39.8      35.0"
      ]
     },
     "execution_count": 37,
     "metadata": {},
     "output_type": "execute_result"
    }
   ],
   "source": [
    "df1=df.iloc[:,2:]\n",
    "df1.head()"
   ]
  },
  {
   "cell_type": "code",
   "execution_count": 38,
   "metadata": {},
   "outputs": [],
   "source": [
    "scaler=StandardScaler()\n",
    "df1_scaled=scaler.fit_transform(df1)\n"
   ]
  },
  {
   "cell_type": "code",
   "execution_count": 39,
   "metadata": {},
   "outputs": [
    {
     "data": {
      "text/html": [
       "<div>\n",
       "<style scoped>\n",
       "    .dataframe tbody tr th:only-of-type {\n",
       "        vertical-align: middle;\n",
       "    }\n",
       "\n",
       "    .dataframe tbody tr th {\n",
       "        vertical-align: top;\n",
       "    }\n",
       "\n",
       "    .dataframe thead th {\n",
       "        text-align: right;\n",
       "    }\n",
       "</style>\n",
       "<table border=\"1\" class=\"dataframe\">\n",
       "  <thead>\n",
       "    <tr style=\"text-align: right;\">\n",
       "      <th></th>\n",
       "      <th>Age</th>\n",
       "      <th>Height</th>\n",
       "      <th>Weight</th>\n",
       "      <th>Duration</th>\n",
       "      <th>Heart_Rate</th>\n",
       "      <th>Body_Temp</th>\n",
       "      <th>Calories</th>\n",
       "    </tr>\n",
       "  </thead>\n",
       "  <tbody>\n",
       "    <tr>\n",
       "      <th>0</th>\n",
       "      <td>1.484726</td>\n",
       "      <td>1.089582</td>\n",
       "      <td>1.265909</td>\n",
       "      <td>1.619127</td>\n",
       "      <td>0.989404</td>\n",
       "      <td>0.994023</td>\n",
       "      <td>2.265002</td>\n",
       "    </tr>\n",
       "    <tr>\n",
       "      <th>1</th>\n",
       "      <td>-1.342179</td>\n",
       "      <td>-0.593726</td>\n",
       "      <td>-0.995458</td>\n",
       "      <td>-0.183990</td>\n",
       "      <td>-0.158461</td>\n",
       "      <td>0.352342</td>\n",
       "      <td>-0.376905</td>\n",
       "    </tr>\n",
       "    <tr>\n",
       "      <th>2</th>\n",
       "      <td>1.543620</td>\n",
       "      <td>0.318066</td>\n",
       "      <td>0.268247</td>\n",
       "      <td>-1.265861</td>\n",
       "      <td>-0.784569</td>\n",
       "      <td>-1.701035</td>\n",
       "      <td>-1.017367</td>\n",
       "    </tr>\n",
       "    <tr>\n",
       "      <th>3</th>\n",
       "      <td>-0.517665</td>\n",
       "      <td>0.318066</td>\n",
       "      <td>-0.263839</td>\n",
       "      <td>-0.304198</td>\n",
       "      <td>0.467647</td>\n",
       "      <td>0.609015</td>\n",
       "      <td>-0.296847</td>\n",
       "    </tr>\n",
       "    <tr>\n",
       "      <th>4</th>\n",
       "      <td>-0.929922</td>\n",
       "      <td>-1.435380</td>\n",
       "      <td>-1.128480</td>\n",
       "      <td>-0.664821</td>\n",
       "      <td>-1.515029</td>\n",
       "      <td>-0.289338</td>\n",
       "      <td>-0.873263</td>\n",
       "    </tr>\n",
       "  </tbody>\n",
       "</table>\n",
       "</div>"
      ],
      "text/plain": [
       "        Age    Height    Weight  Duration  Heart_Rate  Body_Temp  Calories\n",
       "0  1.484726  1.089582  1.265909  1.619127    0.989404   0.994023  2.265002\n",
       "1 -1.342179 -0.593726 -0.995458 -0.183990   -0.158461   0.352342 -0.376905\n",
       "2  1.543620  0.318066  0.268247 -1.265861   -0.784569  -1.701035 -1.017367\n",
       "3 -0.517665  0.318066 -0.263839 -0.304198    0.467647   0.609015 -0.296847\n",
       "4 -0.929922 -1.435380 -1.128480 -0.664821   -1.515029  -0.289338 -0.873263"
      ]
     },
     "execution_count": 39,
     "metadata": {},
     "output_type": "execute_result"
    }
   ],
   "source": [
    "df2 = pd. DataFrame(df1_scaled,columns=['Age','Height','Weight','Duration','Heart_Rate','Body_Temp','Calories']) \n",
    "df2.head()"
   ]
  },
  {
   "cell_type": "code",
   "execution_count": 40,
   "metadata": {},
   "outputs": [],
   "source": [
    "df3=df.iloc[:,0:2]\n",
    "df4=pd.concat([df3,df2],axis=1)"
   ]
  },
  {
   "cell_type": "code",
   "execution_count": 41,
   "metadata": {},
   "outputs": [
    {
     "data": {
      "text/html": [
       "<div>\n",
       "<style scoped>\n",
       "    .dataframe tbody tr th:only-of-type {\n",
       "        vertical-align: middle;\n",
       "    }\n",
       "\n",
       "    .dataframe tbody tr th {\n",
       "        vertical-align: top;\n",
       "    }\n",
       "\n",
       "    .dataframe thead th {\n",
       "        text-align: right;\n",
       "    }\n",
       "</style>\n",
       "<table border=\"1\" class=\"dataframe\">\n",
       "  <thead>\n",
       "    <tr style=\"text-align: right;\">\n",
       "      <th></th>\n",
       "      <th>User_ID</th>\n",
       "      <th>Gender</th>\n",
       "      <th>Age</th>\n",
       "      <th>Height</th>\n",
       "      <th>Weight</th>\n",
       "      <th>Duration</th>\n",
       "      <th>Heart_Rate</th>\n",
       "      <th>Body_Temp</th>\n",
       "      <th>Calories</th>\n",
       "    </tr>\n",
       "  </thead>\n",
       "  <tbody>\n",
       "    <tr>\n",
       "      <th>0</th>\n",
       "      <td>14733363</td>\n",
       "      <td>male</td>\n",
       "      <td>1.484726</td>\n",
       "      <td>1.089582</td>\n",
       "      <td>1.265909</td>\n",
       "      <td>1.619127</td>\n",
       "      <td>0.989404</td>\n",
       "      <td>0.994023</td>\n",
       "      <td>2.265002</td>\n",
       "    </tr>\n",
       "    <tr>\n",
       "      <th>1</th>\n",
       "      <td>14861698</td>\n",
       "      <td>female</td>\n",
       "      <td>-1.342179</td>\n",
       "      <td>-0.593726</td>\n",
       "      <td>-0.995458</td>\n",
       "      <td>-0.183990</td>\n",
       "      <td>-0.158461</td>\n",
       "      <td>0.352342</td>\n",
       "      <td>-0.376905</td>\n",
       "    </tr>\n",
       "    <tr>\n",
       "      <th>2</th>\n",
       "      <td>11179863</td>\n",
       "      <td>male</td>\n",
       "      <td>1.543620</td>\n",
       "      <td>0.318066</td>\n",
       "      <td>0.268247</td>\n",
       "      <td>-1.265861</td>\n",
       "      <td>-0.784569</td>\n",
       "      <td>-1.701035</td>\n",
       "      <td>-1.017367</td>\n",
       "    </tr>\n",
       "    <tr>\n",
       "      <th>3</th>\n",
       "      <td>16180408</td>\n",
       "      <td>female</td>\n",
       "      <td>-0.517665</td>\n",
       "      <td>0.318066</td>\n",
       "      <td>-0.263839</td>\n",
       "      <td>-0.304198</td>\n",
       "      <td>0.467647</td>\n",
       "      <td>0.609015</td>\n",
       "      <td>-0.296847</td>\n",
       "    </tr>\n",
       "    <tr>\n",
       "      <th>4</th>\n",
       "      <td>17771927</td>\n",
       "      <td>female</td>\n",
       "      <td>-0.929922</td>\n",
       "      <td>-1.435380</td>\n",
       "      <td>-1.128480</td>\n",
       "      <td>-0.664821</td>\n",
       "      <td>-1.515029</td>\n",
       "      <td>-0.289338</td>\n",
       "      <td>-0.873263</td>\n",
       "    </tr>\n",
       "    <tr>\n",
       "      <th>...</th>\n",
       "      <td>...</td>\n",
       "      <td>...</td>\n",
       "      <td>...</td>\n",
       "      <td>...</td>\n",
       "      <td>...</td>\n",
       "      <td>...</td>\n",
       "      <td>...</td>\n",
       "      <td>...</td>\n",
       "      <td>...</td>\n",
       "    </tr>\n",
       "    <tr>\n",
       "      <th>14995</th>\n",
       "      <td>15644082</td>\n",
       "      <td>female</td>\n",
       "      <td>-1.342179</td>\n",
       "      <td>1.299996</td>\n",
       "      <td>0.733822</td>\n",
       "      <td>-0.544614</td>\n",
       "      <td>-0.367164</td>\n",
       "      <td>0.480679</td>\n",
       "      <td>-0.713147</td>\n",
       "    </tr>\n",
       "    <tr>\n",
       "      <th>14996</th>\n",
       "      <td>17212577</td>\n",
       "      <td>female</td>\n",
       "      <td>-0.929922</td>\n",
       "      <td>-0.663864</td>\n",
       "      <td>-0.662904</td>\n",
       "      <td>-1.145653</td>\n",
       "      <td>-1.097623</td>\n",
       "      <td>-1.059355</td>\n",
       "      <td>-1.065401</td>\n",
       "    </tr>\n",
       "    <tr>\n",
       "      <th>14997</th>\n",
       "      <td>17271188</td>\n",
       "      <td>female</td>\n",
       "      <td>0.012379</td>\n",
       "      <td>-1.084691</td>\n",
       "      <td>-1.128480</td>\n",
       "      <td>0.056426</td>\n",
       "      <td>-0.575866</td>\n",
       "      <td>0.095670</td>\n",
       "      <td>-0.232801</td>\n",
       "    </tr>\n",
       "    <tr>\n",
       "      <th>14998</th>\n",
       "      <td>18643037</td>\n",
       "      <td>male</td>\n",
       "      <td>2.073665</td>\n",
       "      <td>1.299996</td>\n",
       "      <td>1.465441</td>\n",
       "      <td>-1.626484</td>\n",
       "      <td>-1.201975</td>\n",
       "      <td>-2.214380</td>\n",
       "      <td>-1.257540</td>\n",
       "    </tr>\n",
       "    <tr>\n",
       "      <th>14999</th>\n",
       "      <td>11751526</td>\n",
       "      <td>male</td>\n",
       "      <td>1.190257</td>\n",
       "      <td>-0.102761</td>\n",
       "      <td>0.268247</td>\n",
       "      <td>0.296841</td>\n",
       "      <td>-0.367164</td>\n",
       "      <td>0.609015</td>\n",
       "      <td>0.135465</td>\n",
       "    </tr>\n",
       "  </tbody>\n",
       "</table>\n",
       "<p>15000 rows × 9 columns</p>\n",
       "</div>"
      ],
      "text/plain": [
       "        User_ID  Gender       Age    Height    Weight  Duration  Heart_Rate  \\\n",
       "0      14733363    male  1.484726  1.089582  1.265909  1.619127    0.989404   \n",
       "1      14861698  female -1.342179 -0.593726 -0.995458 -0.183990   -0.158461   \n",
       "2      11179863    male  1.543620  0.318066  0.268247 -1.265861   -0.784569   \n",
       "3      16180408  female -0.517665  0.318066 -0.263839 -0.304198    0.467647   \n",
       "4      17771927  female -0.929922 -1.435380 -1.128480 -0.664821   -1.515029   \n",
       "...         ...     ...       ...       ...       ...       ...         ...   \n",
       "14995  15644082  female -1.342179  1.299996  0.733822 -0.544614   -0.367164   \n",
       "14996  17212577  female -0.929922 -0.663864 -0.662904 -1.145653   -1.097623   \n",
       "14997  17271188  female  0.012379 -1.084691 -1.128480  0.056426   -0.575866   \n",
       "14998  18643037    male  2.073665  1.299996  1.465441 -1.626484   -1.201975   \n",
       "14999  11751526    male  1.190257 -0.102761  0.268247  0.296841   -0.367164   \n",
       "\n",
       "       Body_Temp  Calories  \n",
       "0       0.994023  2.265002  \n",
       "1       0.352342 -0.376905  \n",
       "2      -1.701035 -1.017367  \n",
       "3       0.609015 -0.296847  \n",
       "4      -0.289338 -0.873263  \n",
       "...          ...       ...  \n",
       "14995   0.480679 -0.713147  \n",
       "14996  -1.059355 -1.065401  \n",
       "14997   0.095670 -0.232801  \n",
       "14998  -2.214380 -1.257540  \n",
       "14999   0.609015  0.135465  \n",
       "\n",
       "[15000 rows x 9 columns]"
      ]
     },
     "execution_count": 41,
     "metadata": {},
     "output_type": "execute_result"
    }
   ],
   "source": [
    "df4"
   ]
  },
  {
   "cell_type": "code",
   "execution_count": 42,
   "metadata": {},
   "outputs": [],
   "source": [
    "df4['Gender']=df4['Gender'].map({'male':1,'female':2})"
   ]
  },
  {
   "cell_type": "code",
   "execution_count": 43,
   "metadata": {},
   "outputs": [
    {
     "data": {
      "text/html": [
       "<div>\n",
       "<style scoped>\n",
       "    .dataframe tbody tr th:only-of-type {\n",
       "        vertical-align: middle;\n",
       "    }\n",
       "\n",
       "    .dataframe tbody tr th {\n",
       "        vertical-align: top;\n",
       "    }\n",
       "\n",
       "    .dataframe thead th {\n",
       "        text-align: right;\n",
       "    }\n",
       "</style>\n",
       "<table border=\"1\" class=\"dataframe\">\n",
       "  <thead>\n",
       "    <tr style=\"text-align: right;\">\n",
       "      <th></th>\n",
       "      <th>User_ID</th>\n",
       "      <th>Gender</th>\n",
       "      <th>Age</th>\n",
       "      <th>Height</th>\n",
       "      <th>Weight</th>\n",
       "      <th>Duration</th>\n",
       "      <th>Heart_Rate</th>\n",
       "      <th>Body_Temp</th>\n",
       "      <th>Calories</th>\n",
       "    </tr>\n",
       "  </thead>\n",
       "  <tbody>\n",
       "    <tr>\n",
       "      <th>0</th>\n",
       "      <td>14733363</td>\n",
       "      <td>1</td>\n",
       "      <td>1.484726</td>\n",
       "      <td>1.089582</td>\n",
       "      <td>1.265909</td>\n",
       "      <td>1.619127</td>\n",
       "      <td>0.989404</td>\n",
       "      <td>0.994023</td>\n",
       "      <td>2.265002</td>\n",
       "    </tr>\n",
       "    <tr>\n",
       "      <th>1</th>\n",
       "      <td>14861698</td>\n",
       "      <td>2</td>\n",
       "      <td>-1.342179</td>\n",
       "      <td>-0.593726</td>\n",
       "      <td>-0.995458</td>\n",
       "      <td>-0.183990</td>\n",
       "      <td>-0.158461</td>\n",
       "      <td>0.352342</td>\n",
       "      <td>-0.376905</td>\n",
       "    </tr>\n",
       "    <tr>\n",
       "      <th>2</th>\n",
       "      <td>11179863</td>\n",
       "      <td>1</td>\n",
       "      <td>1.543620</td>\n",
       "      <td>0.318066</td>\n",
       "      <td>0.268247</td>\n",
       "      <td>-1.265861</td>\n",
       "      <td>-0.784569</td>\n",
       "      <td>-1.701035</td>\n",
       "      <td>-1.017367</td>\n",
       "    </tr>\n",
       "    <tr>\n",
       "      <th>3</th>\n",
       "      <td>16180408</td>\n",
       "      <td>2</td>\n",
       "      <td>-0.517665</td>\n",
       "      <td>0.318066</td>\n",
       "      <td>-0.263839</td>\n",
       "      <td>-0.304198</td>\n",
       "      <td>0.467647</td>\n",
       "      <td>0.609015</td>\n",
       "      <td>-0.296847</td>\n",
       "    </tr>\n",
       "    <tr>\n",
       "      <th>4</th>\n",
       "      <td>17771927</td>\n",
       "      <td>2</td>\n",
       "      <td>-0.929922</td>\n",
       "      <td>-1.435380</td>\n",
       "      <td>-1.128480</td>\n",
       "      <td>-0.664821</td>\n",
       "      <td>-1.515029</td>\n",
       "      <td>-0.289338</td>\n",
       "      <td>-0.873263</td>\n",
       "    </tr>\n",
       "  </tbody>\n",
       "</table>\n",
       "</div>"
      ],
      "text/plain": [
       "    User_ID  Gender       Age    Height    Weight  Duration  Heart_Rate  \\\n",
       "0  14733363       1  1.484726  1.089582  1.265909  1.619127    0.989404   \n",
       "1  14861698       2 -1.342179 -0.593726 -0.995458 -0.183990   -0.158461   \n",
       "2  11179863       1  1.543620  0.318066  0.268247 -1.265861   -0.784569   \n",
       "3  16180408       2 -0.517665  0.318066 -0.263839 -0.304198    0.467647   \n",
       "4  17771927       2 -0.929922 -1.435380 -1.128480 -0.664821   -1.515029   \n",
       "\n",
       "   Body_Temp  Calories  \n",
       "0   0.994023  2.265002  \n",
       "1   0.352342 -0.376905  \n",
       "2  -1.701035 -1.017367  \n",
       "3   0.609015 -0.296847  \n",
       "4  -0.289338 -0.873263  "
      ]
     },
     "execution_count": 43,
     "metadata": {},
     "output_type": "execute_result"
    }
   ],
   "source": [
    "df4.head()"
   ]
  },
  {
   "cell_type": "code",
   "execution_count": 44,
   "metadata": {},
   "outputs": [
    {
     "data": {
      "text/plain": [
       "<AxesSubplot:>"
      ]
     },
     "execution_count": 44,
     "metadata": {},
     "output_type": "execute_result"
    },
    {
     "data": {
      "image/png": "[encoded data removed]",
      "text/plain": [
       "<Figure size 432x288 with 2 Axes>"
      ]
     },
     "metadata": {
      "needs_background": "light"
     },
     "output_type": "display_data"
    }
   ],
   "source": [
    "corr = df4.corr()\n",
    "sns.heatmap(corr)"
   ]
  },
  {
   "cell_type": "markdown",
   "metadata": {},
   "source": [
    "High correlation between calories burned and body temp,heart rate and duration"
   ]
  },
  {
   "cell_type": "markdown",
   "metadata": {},
   "source": [
    "# Linear regression Model"
   ]
  },
  {
   "cell_type": "code",
   "execution_count": 83,
   "metadata": {},
   "outputs": [],
   "source": [
    "x=df4.iloc[:,1:8]\n",
    "y=df4.iloc[:,8:9]"
   ]
  },
  {
   "cell_type": "code",
   "execution_count": 85,
   "metadata": {},
   "outputs": [],
   "source": [
    "X_train,X_test,Y_train,Y_test=train_test_split(x,y,test_size=0.30,random_state=42)"
   ]
  },
  {
   "cell_type": "code",
   "execution_count": 86,
   "metadata": {},
   "outputs": [
    {
     "data": {
      "text/plain": [
       "LinearRegression(copy_X=True, fit_intercept=True, n_jobs=None, normalize=False)"
      ]
     },
     "execution_count": 86,
     "metadata": {},
     "output_type": "execute_result"
    }
   ],
   "source": [
    "reg=LinearRegression()\n",
    "reg.fit(X_train,Y_train)"
   ]
  },
  {
   "cell_type": "code",
   "execution_count": 87,
   "metadata": {},
   "outputs": [],
   "source": [
    "preds=reg.predict(X_test)"
   ]
  },
  {
   "cell_type": "code",
   "execution_count": 88,
   "metadata": {},
   "outputs": [
    {
     "data": {
      "text/plain": [
       "0.9663275127619021"
      ]
     },
     "execution_count": 88,
     "metadata": {},
     "output_type": "execute_result"
    }
   ],
   "source": [
    "r2_score(Y_test,preds)"
   ]
  },
  {
   "cell_type": "code",
   "execution_count": 89,
   "metadata": {},
   "outputs": [
    {
     "data": {
      "text/plain": [
       "0.034076459381859436"
      ]
     },
     "execution_count": 89,
     "metadata": {},
     "output_type": "execute_result"
    }
   ],
   "source": [
    "mean_squared_error(Y_test,preds)"
   ]
  },
  {
   "cell_type": "markdown",
   "metadata": {},
   "source": [
    "# Random Forest Regressor Model"
   ]
  },
  {
   "cell_type": "code",
   "execution_count": 51,
   "metadata": {},
   "outputs": [
    {
     "data": {
      "text/plain": [
       "RandomForestRegressor()"
      ]
     },
     "execution_count": 51,
     "metadata": {},
     "output_type": "execute_result"
    }
   ],
   "source": [
    "reg1=RandomForestRegressor()\n",
    "reg1.fit(X_train,Y_train)"
   ]
  },
  {
   "cell_type": "code",
   "execution_count": 52,
   "metadata": {},
   "outputs": [],
   "source": [
    "preds1=reg1.predict(X_test)"
   ]
  },
  {
   "cell_type": "code",
   "execution_count": 63,
   "metadata": {},
   "outputs": [],
   "source": [
    "predicted = pd. DataFrame(preds1)"
   ]
  },
  {
   "cell_type": "code",
   "execution_count": 53,
   "metadata": {},
   "outputs": [
    {
     "data": {
      "text/plain": [
       "0.9978184985688495"
      ]
     },
     "execution_count": 53,
     "metadata": {},
     "output_type": "execute_result"
    }
   ],
   "source": [
    "r2_score(Y_test,preds1)"
   ]
  },
  {
   "cell_type": "code",
   "execution_count": 54,
   "metadata": {},
   "outputs": [
    {
     "data": {
      "text/plain": [
       "0.00220767311854404"
      ]
     },
     "execution_count": 54,
     "metadata": {},
     "output_type": "execute_result"
    }
   ],
   "source": [
    "mean_squared_error(Y_test,preds1)"
   ]
  },
  {
   "cell_type": "markdown",
   "metadata": {},
   "source": [
    "# Checking for the best Model using Pycaret"
   ]
  },
  {
   "cell_type": "code",
   "execution_count": 55,
   "metadata": {},
   "outputs": [
    {
     "name": "stdout",
     "output_type": "stream",
     "text": [
      "Requirement already satisfied: pycaret in c:\\users\\hp\\anaconda3\\lib\\site-packages (2.2.3)\n",
      "Requirement already satisfied: pyLDAvis in c:\\users\\hp\\anaconda3\\lib\\site-packages (from pycaret) (2.1.2)\n",
      "Requirement already satisfied: nltk in c:\\users\\hp\\anaconda3\\lib\\site-packages (from pycaret) (3.5)\n",
      "Requirement already satisfied: pandas in c:\\users\\hp\\anaconda3\\lib\\site-packages (from pycaret) (1.1.3)\n",
      "Requirement already satisfied: mlflow in c:\\users\\hp\\anaconda3\\lib\\site-packages (from pycaret) (1.13.1)\n",
      "Requirement already satisfied: spacy in c:\\users\\hp\\anaconda3\\lib\\site-packages (from pycaret) (2.3.2)\n",
      "Requirement already satisfied: plotly>=4.4.1 in c:\\users\\hp\\anaconda3\\lib\\site-packages (from pycaret) (4.11.0)\n",
      "Requirement already satisfied: ipywidgets in c:\\users\\hp\\anaconda3\\lib\\site-packages (from pycaret) (7.5.1)\n",
      "Requirement already satisfied: matplotlib in c:\\users\\hp\\anaconda3\\lib\\site-packages (from pycaret) (3.3.2)\n",
      "Requirement already satisfied: scikit-learn==0.23.2 in c:\\users\\hp\\anaconda3\\lib\\site-packages (from pycaret) (0.23.2)\n",
      "Requirement already satisfied: kmodes>=0.10.1 in c:\\users\\hp\\anaconda3\\lib\\site-packages (from pycaret) (0.10.2)\n",
      "Requirement already satisfied: joblib in c:\\users\\hp\\anaconda3\\lib\\site-packages (from pycaret) (0.17.0)\n",
      "Requirement already satisfied: mlxtend in c:\\users\\hp\\anaconda3\\lib\\site-packages (from pycaret) (0.18.0)\n",
      "Requirement already satisfied: numpy>=1.17 in c:\\users\\hp\\anaconda3\\lib\\site-packages (from pycaret) (1.19.2)\n",
      "Requirement already satisfied: cufflinks>=0.17.0 in c:\\users\\hp\\anaconda3\\lib\\site-packages (from pycaret) (0.17.3)\n",
      "Requirement already satisfied: umap-learn in c:\\users\\hp\\anaconda3\\lib\\site-packages (from pycaret) (0.5.0)\n",
      "Requirement already satisfied: gensim in c:\\users\\hp\\anaconda3\\lib\\site-packages (from pycaret) (3.8.3)\n",
      "Requirement already satisfied: imbalanced-learn>=0.7.0 in c:\\users\\hp\\anaconda3\\lib\\site-packages (from pycaret) (0.7.0)\n",
      "Requirement already satisfied: seaborn in c:\\users\\hp\\anaconda3\\lib\\site-packages (from pycaret) (0.11.0)\n",
      "Requirement already satisfied: catboost>=0.23.2 in c:\\users\\hp\\anaconda3\\lib\\site-packages (from pycaret) (0.24.4)\n",
      "Requirement already satisfied: textblob in c:\\users\\hp\\anaconda3\\lib\\site-packages (from pycaret) (0.15.3)\n",
      "Requirement already satisfied: wordcloud in c:\\users\\hp\\anaconda3\\lib\\site-packages (from pycaret) (1.8.0)\n",
      "Requirement already satisfied: pandas-profiling>=2.8.0 in c:\\users\\hp\\anaconda3\\lib\\site-packages (from pycaret) (2.9.0)\n",
      "Requirement already satisfied: xgboost>=1.1.0 in c:\\users\\hp\\anaconda3\\lib\\site-packages (from pycaret) (1.3.1)\n",
      "Requirement already satisfied: yellowbrick>=1.0.1 in c:\\users\\hp\\anaconda3\\lib\\site-packages (from pycaret) (1.2.1)\n",
      "Requirement already satisfied: pyod in c:\\users\\hp\\anaconda3\\lib\\site-packages (from pycaret) (0.8.6)\n",
      "Requirement already satisfied: IPython in c:\\users\\hp\\anaconda3\\lib\\site-packages (from pycaret) (7.18.1)\n",
      "Requirement already satisfied: scikit-plot in c:\\users\\hp\\anaconda3\\lib\\site-packages (from pycaret) (0.3.7)\n",
      "Requirement already satisfied: lightgbm>=2.3.1 in c:\\users\\hp\\anaconda3\\lib\\site-packages (from pycaret) (3.1.1)\n",
      "Requirement already satisfied: future in c:\\users\\hp\\anaconda3\\lib\\site-packages (from pyLDAvis->pycaret) (0.18.2)\n",
      "Requirement already satisfied: jinja2>=2.7.2 in c:\\users\\hp\\anaconda3\\lib\\site-packages (from pyLDAvis->pycaret) (2.11.2)\n",
      "Requirement already satisfied: pytest in c:\\users\\hp\\anaconda3\\lib\\site-packages (from pyLDAvis->pycaret) (0.0.0)\n",
      "Requirement already satisfied: funcy in c:\\users\\hp\\anaconda3\\lib\\site-packages (from pyLDAvis->pycaret) (1.15)\n",
      "Requirement already satisfied: wheel>=0.23.0 in c:\\users\\hp\\anaconda3\\lib\\site-packages (from pyLDAvis->pycaret) (0.35.1)\n",
      "Requirement already satisfied: numexpr in c:\\users\\hp\\anaconda3\\lib\\site-packages (from pyLDAvis->pycaret) (2.7.1)\n",
      "Requirement already satisfied: scipy>=0.18.0 in c:\\users\\hp\\anaconda3\\lib\\site-packages (from pyLDAvis->pycaret) (1.5.2)\n",
      "Requirement already satisfied: regex in c:\\users\\hp\\anaconda3\\lib\\site-packages (from nltk->pycaret) (2020.10.15)\n",
      "Requirement already satisfied: tqdm in c:\\users\\hp\\anaconda3\\lib\\site-packages (from nltk->pycaret) (4.50.2)\n",
      "Requirement already satisfied: click in c:\\users\\hp\\anaconda3\\lib\\site-packages (from nltk->pycaret) (7.1.2)\n",
      "Requirement already satisfied: python-dateutil>=2.7.3 in c:\\users\\hp\\anaconda3\\lib\\site-packages (from pandas->pycaret) (2.8.1)\n",
      "Requirement already satisfied: pytz>=2017.2 in c:\\users\\hp\\anaconda3\\lib\\site-packages (from pandas->pycaret) (2020.1)\n",
      "Requirement already satisfied: cloudpickle in c:\\users\\hp\\anaconda3\\lib\\site-packages (from mlflow->pycaret) (1.6.0)\n",
      "Requirement already satisfied: sqlparse>=0.3.1 in c:\\users\\hp\\anaconda3\\lib\\site-packages (from mlflow->pycaret) (0.4.1)\n",
      "Requirement already satisfied: databricks-cli>=0.8.7 in c:\\users\\hp\\anaconda3\\lib\\site-packages (from mlflow->pycaret) (0.14.1)\n",
      "Requirement already satisfied: azure-storage-blob>=12.0.0 in c:\\users\\hp\\anaconda3\\lib\\site-packages (from mlflow->pycaret) (12.7.0)\n",
      "Requirement already satisfied: waitress; platform_system == \"Windows\" in c:\\users\\hp\\anaconda3\\lib\\site-packages (from mlflow->pycaret) (1.4.4)\n",
      "Requirement already satisfied: protobuf>=3.6.0 in c:\\users\\hp\\anaconda3\\lib\\site-packages (from mlflow->pycaret) (3.13.0)\n",
      "Requirement already satisfied: six>=1.10.0 in c:\\users\\hp\\anaconda3\\lib\\site-packages (from mlflow->pycaret) (1.15.0)\n",
      "Requirement already satisfied: gitpython>=2.1.0 in c:\\users\\hp\\anaconda3\\lib\\site-packages (from mlflow->pycaret) (3.1.12)\n",
      "Requirement already satisfied: pyyaml in c:\\users\\hp\\anaconda3\\lib\\site-packages (from mlflow->pycaret) (5.3.1)\n",
      "Requirement already satisfied: prometheus-flask-exporter in c:\\users\\hp\\anaconda3\\lib\\site-packages (from mlflow->pycaret) (0.18.1)\n",
      "Requirement already satisfied: Flask in c:\\users\\hp\\anaconda3\\lib\\site-packages (from mlflow->pycaret) (1.1.2)\n",
      "Requirement already satisfied: entrypoints in c:\\users\\hp\\anaconda3\\lib\\site-packages (from mlflow->pycaret) (0.3)\n",
      "Requirement already satisfied: alembic<=1.4.1 in c:\\users\\hp\\anaconda3\\lib\\site-packages (from mlflow->pycaret) (1.4.1)\n",
      "Requirement already satisfied: requests>=2.17.3 in c:\\users\\hp\\anaconda3\\lib\\site-packages (from mlflow->pycaret) (2.24.0)\n",
      "Requirement already satisfied: sqlalchemy in c:\\users\\hp\\anaconda3\\lib\\site-packages (from mlflow->pycaret) (1.3.20)\n",
      "Requirement already satisfied: docker>=4.0.0 in c:\\users\\hp\\anaconda3\\lib\\site-packages (from mlflow->pycaret) (4.4.1)\n",
      "Requirement already satisfied: querystring-parser in c:\\users\\hp\\anaconda3\\lib\\site-packages (from mlflow->pycaret) (1.2.4)\n",
      "Requirement already satisfied: blis<0.5.0,>=0.4.0 in c:\\users\\hp\\anaconda3\\lib\\site-packages (from spacy->pycaret) (0.4.1)\n",
      "Requirement already satisfied: cymem<2.1.0,>=2.0.2 in c:\\users\\hp\\anaconda3\\lib\\site-packages (from spacy->pycaret) (2.0.3)\n",
      "Requirement already satisfied: catalogue<1.1.0,>=0.0.7 in c:\\users\\hp\\anaconda3\\lib\\site-packages (from spacy->pycaret) (1.0.0)\n",
      "Requirement already satisfied: wasabi<1.1.0,>=0.4.0 in c:\\users\\hp\\anaconda3\\lib\\site-packages (from spacy->pycaret) (0.8.0)\n",
      "Requirement already satisfied: plac<1.2.0,>=0.9.6 in c:\\users\\hp\\anaconda3\\lib\\site-packages (from spacy->pycaret) (1.1.3)\n",
      "Requirement already satisfied: setuptools in c:\\users\\hp\\appdata\\roaming\\python\\python37\\site-packages (from spacy->pycaret) (47.3.1)\n",
      "Requirement already satisfied: preshed<3.1.0,>=3.0.2 in c:\\users\\hp\\anaconda3\\lib\\site-packages (from spacy->pycaret) (3.0.2)\n",
      "Requirement already satisfied: murmurhash<1.1.0,>=0.28.0 in c:\\users\\hp\\anaconda3\\lib\\site-packages (from spacy->pycaret) (1.0.2)\n",
      "Requirement already satisfied: thinc==7.4.1 in c:\\users\\hp\\anaconda3\\lib\\site-packages (from spacy->pycaret) (7.4.1)\n",
      "Requirement already satisfied: srsly<1.1.0,>=1.0.2 in c:\\users\\hp\\anaconda3\\lib\\site-packages (from spacy->pycaret) (1.0.2)\n",
      "Requirement already satisfied: retrying>=1.3.3 in c:\\users\\hp\\anaconda3\\lib\\site-packages (from plotly>=4.4.1->pycaret) (1.3.3)\n",
      "Requirement already satisfied: widgetsnbextension~=3.5.0 in c:\\users\\hp\\anaconda3\\lib\\site-packages (from ipywidgets->pycaret) (3.5.1)\n",
      "Requirement already satisfied: ipykernel>=4.5.1 in c:\\users\\hp\\anaconda3\\lib\\site-packages (from ipywidgets->pycaret) (5.3.4)\n",
      "Requirement already satisfied: nbformat>=4.2.0 in c:\\users\\hp\\anaconda3\\lib\\site-packages (from ipywidgets->pycaret) (5.0.8)\n",
      "Requirement already satisfied: traitlets>=4.3.1 in c:\\users\\hp\\anaconda3\\lib\\site-packages (from ipywidgets->pycaret) (5.0.5)\n",
      "Requirement already satisfied: pillow>=6.2.0 in c:\\users\\hp\\anaconda3\\lib\\site-packages (from matplotlib->pycaret) (8.0.1)\n",
      "Requirement already satisfied: pyparsing!=2.0.4,!=2.1.2,!=2.1.6,>=2.0.3 in c:\\users\\hp\\anaconda3\\lib\\site-packages (from matplotlib->pycaret) (2.4.7)\n",
      "Requirement already satisfied: cycler>=0.10 in c:\\users\\hp\\anaconda3\\lib\\site-packages (from matplotlib->pycaret) (0.10.0)\n",
      "Requirement already satisfied: kiwisolver>=1.0.1 in c:\\users\\hp\\anaconda3\\lib\\site-packages (from matplotlib->pycaret) (1.2.0)\n",
      "Requirement already satisfied: certifi>=2020.06.20 in c:\\users\\hp\\anaconda3\\lib\\site-packages (from matplotlib->pycaret) (2020.6.20)\n",
      "Requirement already satisfied: threadpoolctl>=2.0.0 in c:\\users\\hp\\anaconda3\\lib\\site-packages (from scikit-learn==0.23.2->pycaret) (2.1.0)"
     ]
    },
    {
     "name": "stderr",
     "output_type": "stream",
     "text": [
      "WARNING: You are using pip version 20.1.1; however, version 20.3.3 is available.\n",
      "You should consider upgrading via the 'C:\\Users\\hp\\anaconda3\\python.exe -m pip install --upgrade pip' command.\n"
     ]
    },
    {
     "name": "stdout",
     "output_type": "stream",
     "text": [
      "\n",
      "Requirement already satisfied: colorlover>=0.2.1 in c:\\users\\hp\\anaconda3\\lib\\site-packages (from cufflinks>=0.17.0->pycaret) (0.3.0)\n",
      "Requirement already satisfied: pynndescent>=0.5 in c:\\users\\hp\\anaconda3\\lib\\site-packages (from umap-learn->pycaret) (0.5.1)\n",
      "Requirement already satisfied: numba>=0.49 in c:\\users\\hp\\anaconda3\\lib\\site-packages (from umap-learn->pycaret) (0.51.2)\n",
      "Requirement already satisfied: Cython==0.29.14 in c:\\users\\hp\\anaconda3\\lib\\site-packages (from gensim->pycaret) (0.29.14)\n",
      "Requirement already satisfied: smart-open>=1.8.1 in c:\\users\\hp\\anaconda3\\lib\\site-packages (from gensim->pycaret) (3.0.0)\n",
      "Requirement already satisfied: graphviz in c:\\users\\hp\\anaconda3\\lib\\site-packages (from catboost>=0.23.2->pycaret) (0.16)\n",
      "Requirement already satisfied: phik>=0.9.10 in c:\\users\\hp\\anaconda3\\lib\\site-packages (from pandas-profiling>=2.8.0->pycaret) (0.10.0)\n",
      "Requirement already satisfied: attrs>=19.3.0 in c:\\users\\hp\\anaconda3\\lib\\site-packages (from pandas-profiling>=2.8.0->pycaret) (20.2.0)\n",
      "Requirement already satisfied: visions[type_image_path]==0.5.0 in c:\\users\\hp\\anaconda3\\lib\\site-packages (from pandas-profiling>=2.8.0->pycaret) (0.5.0)\n",
      "Requirement already satisfied: htmlmin>=0.1.12 in c:\\users\\hp\\anaconda3\\lib\\site-packages (from pandas-profiling>=2.8.0->pycaret) (0.1.12)\n",
      "Requirement already satisfied: tangled-up-in-unicode>=0.0.6 in c:\\users\\hp\\anaconda3\\lib\\site-packages (from pandas-profiling>=2.8.0->pycaret) (0.0.6)\n",
      "Requirement already satisfied: missingno>=0.4.2 in c:\\users\\hp\\anaconda3\\lib\\site-packages (from pandas-profiling>=2.8.0->pycaret) (0.4.2)\n",
      "Requirement already satisfied: confuse>=1.0.0 in c:\\users\\hp\\anaconda3\\lib\\site-packages (from pandas-profiling>=2.8.0->pycaret) (1.4.0)\n",
      "Requirement already satisfied: combo in c:\\users\\hp\\anaconda3\\lib\\site-packages (from pyod->pycaret) (0.1.2)\n",
      "Requirement already satisfied: suod in c:\\users\\hp\\anaconda3\\lib\\site-packages (from pyod->pycaret) (0.0.6)\n",
      "Requirement already satisfied: statsmodels in c:\\users\\hp\\anaconda3\\lib\\site-packages (from pyod->pycaret) (0.12.0)\n",
      "Requirement already satisfied: pygments in c:\\users\\hp\\anaconda3\\lib\\site-packages (from IPython->pycaret) (2.7.1)\n",
      "Requirement already satisfied: jedi>=0.10 in c:\\users\\hp\\anaconda3\\lib\\site-packages (from IPython->pycaret) (0.17.1)\n",
      "Requirement already satisfied: pickleshare in c:\\users\\hp\\anaconda3\\lib\\site-packages (from IPython->pycaret) (0.7.5)\n",
      "Requirement already satisfied: backcall in c:\\users\\hp\\anaconda3\\lib\\site-packages (from IPython->pycaret) (0.2.0)\n",
      "Requirement already satisfied: decorator in c:\\users\\hp\\anaconda3\\lib\\site-packages (from IPython->pycaret) (4.4.2)\n",
      "Requirement already satisfied: prompt-toolkit!=3.0.0,!=3.0.1,<3.1.0,>=2.0.0 in c:\\users\\hp\\anaconda3\\lib\\site-packages (from IPython->pycaret) (3.0.8)\n",
      "Requirement already satisfied: colorama; sys_platform == \"win32\" in c:\\users\\hp\\anaconda3\\lib\\site-packages (from IPython->pycaret) (0.4.4)\n",
      "Requirement already satisfied: MarkupSafe>=0.23 in c:\\users\\hp\\anaconda3\\lib\\site-packages (from jinja2>=2.7.2->pyLDAvis->pycaret) (1.1.1)\n",
      "Requirement already satisfied: iniconfig in c:\\users\\hp\\anaconda3\\lib\\site-packages (from pytest->pyLDAvis->pycaret) (1.1.1)\n",
      "Requirement already satisfied: packaging in c:\\users\\hp\\anaconda3\\lib\\site-packages (from pytest->pyLDAvis->pycaret) (20.4)\n",
      "Requirement already satisfied: pluggy<1.0,>=0.12 in c:\\users\\hp\\anaconda3\\lib\\site-packages (from pytest->pyLDAvis->pycaret) (0.13.1)\n",
      "Requirement already satisfied: py>=1.8.2 in c:\\users\\hp\\anaconda3\\lib\\site-packages (from pytest->pyLDAvis->pycaret) (1.9.0)\n",
      "Requirement already satisfied: toml in c:\\users\\hp\\anaconda3\\lib\\site-packages (from pytest->pyLDAvis->pycaret) (0.10.1)\n",
      "Requirement already satisfied: importlib-metadata>=0.12 in c:\\users\\hp\\anaconda3\\lib\\site-packages (from pytest->pyLDAvis->pycaret) (1.5.2)\n",
      "Requirement already satisfied: atomicwrites>=1.0 in c:\\users\\hp\\anaconda3\\lib\\site-packages (from pytest->pyLDAvis->pycaret) (1.4.0)\n",
      "Requirement already satisfied: tabulate>=0.7.7 in c:\\users\\hp\\anaconda3\\lib\\site-packages (from databricks-cli>=0.8.7->mlflow->pycaret) (0.8.7)\n",
      "Requirement already satisfied: cryptography>=2.1.4 in c:\\users\\hp\\anaconda3\\lib\\site-packages (from azure-storage-blob>=12.0.0->mlflow->pycaret) (3.1.1)\n",
      "Requirement already satisfied: msrest>=0.6.10 in c:\\users\\hp\\anaconda3\\lib\\site-packages (from azure-storage-blob>=12.0.0->mlflow->pycaret) (0.6.19)\n",
      "Requirement already satisfied: azure-core<2.0.0,>=1.10.0 in c:\\users\\hp\\anaconda3\\lib\\site-packages (from azure-storage-blob>=12.0.0->mlflow->pycaret) (1.10.0)\n",
      "Requirement already satisfied: gitdb<5,>=4.0.1 in c:\\users\\hp\\anaconda3\\lib\\site-packages (from gitpython>=2.1.0->mlflow->pycaret) (4.0.5)\n",
      "Requirement already satisfied: prometheus-client in c:\\users\\hp\\anaconda3\\lib\\site-packages (from prometheus-flask-exporter->mlflow->pycaret) (0.8.0)\n",
      "Requirement already satisfied: Werkzeug>=0.15 in c:\\users\\hp\\anaconda3\\lib\\site-packages (from Flask->mlflow->pycaret) (0.16.1)\n",
      "Requirement already satisfied: itsdangerous>=0.24 in c:\\users\\hp\\anaconda3\\lib\\site-packages (from Flask->mlflow->pycaret) (1.1.0)\n",
      "Requirement already satisfied: Mako in c:\\users\\hp\\anaconda3\\lib\\site-packages (from alembic<=1.4.1->mlflow->pycaret) (1.1.4)\n",
      "Requirement already satisfied: python-editor>=0.3 in c:\\users\\hp\\anaconda3\\lib\\site-packages (from alembic<=1.4.1->mlflow->pycaret) (1.0.4)\n",
      "Requirement already satisfied: urllib3!=1.25.0,!=1.25.1,<1.26,>=1.21.1 in c:\\users\\hp\\anaconda3\\lib\\site-packages (from requests>=2.17.3->mlflow->pycaret) (1.25.11)\n",
      "Requirement already satisfied: chardet<4,>=3.0.2 in c:\\users\\hp\\anaconda3\\lib\\site-packages (from requests>=2.17.3->mlflow->pycaret) (3.0.4)\n",
      "Requirement already satisfied: idna<3,>=2.5 in c:\\users\\hp\\anaconda3\\lib\\site-packages (from requests>=2.17.3->mlflow->pycaret) (2.10)\n",
      "Requirement already satisfied: pywin32==227; sys_platform == \"win32\" in c:\\users\\hp\\anaconda3\\lib\\site-packages (from docker>=4.0.0->mlflow->pycaret) (227)\n",
      "Requirement already satisfied: websocket-client>=0.32.0 in c:\\users\\hp\\anaconda3\\lib\\site-packages (from docker>=4.0.0->mlflow->pycaret) (0.57.0)\n",
      "Requirement already satisfied: notebook>=4.4.1 in c:\\users\\hp\\anaconda3\\lib\\site-packages (from widgetsnbextension~=3.5.0->ipywidgets->pycaret) (6.1.4)\n",
      "Requirement already satisfied: jupyter-client in c:\\users\\hp\\anaconda3\\lib\\site-packages (from ipykernel>=4.5.1->ipywidgets->pycaret) (6.1.7)\n",
      "Requirement already satisfied: tornado>=4.2 in c:\\users\\hp\\anaconda3\\lib\\site-packages (from ipykernel>=4.5.1->ipywidgets->pycaret) (6.0.4)\n",
      "Requirement already satisfied: jupyter-core in c:\\users\\hp\\anaconda3\\lib\\site-packages (from nbformat>=4.2.0->ipywidgets->pycaret) (4.6.3)\n",
      "Requirement already satisfied: ipython-genutils in c:\\users\\hp\\anaconda3\\lib\\site-packages (from nbformat>=4.2.0->ipywidgets->pycaret) (0.2.0)\n",
      "Requirement already satisfied: jsonschema!=2.5.0,>=2.4 in c:\\users\\hp\\anaconda3\\lib\\site-packages (from nbformat>=4.2.0->ipywidgets->pycaret) (3.2.0)\n",
      "Requirement already satisfied: llvmlite>=0.30 in c:\\users\\hp\\anaconda3\\lib\\site-packages (from pynndescent>=0.5->umap-learn->pycaret) (0.34.0)\n",
      "Requirement already satisfied: networkx>=2.4 in c:\\users\\hp\\anaconda3\\lib\\site-packages (from visions[type_image_path]==0.5.0->pandas-profiling>=2.8.0->pycaret) (2.5)\n",
      "Requirement already satisfied: imagehash; extra == \"type_image_path\" in c:\\users\\hp\\anaconda3\\lib\\site-packages (from visions[type_image_path]==0.5.0->pandas-profiling>=2.8.0->pycaret) (4.2.0)\n",
      "Requirement already satisfied: psutil in c:\\users\\hp\\anaconda3\\lib\\site-packages (from suod->pyod->pycaret) (5.7.2)\n",
      "Requirement already satisfied: patsy>=0.5 in c:\\users\\hp\\anaconda3\\lib\\site-packages (from statsmodels->pyod->pycaret) (0.5.1)\n",
      "Requirement already satisfied: parso<0.8.0,>=0.7.0 in c:\\users\\hp\\anaconda3\\lib\\site-packages (from jedi>=0.10->IPython->pycaret) (0.7.0)\n",
      "Requirement already satisfied: wcwidth in c:\\users\\hp\\anaconda3\\lib\\site-packages (from prompt-toolkit!=3.0.0,!=3.0.1,<3.1.0,>=2.0.0->IPython->pycaret) (0.2.5)\n",
      "Requirement already satisfied: zipp>=0.5 in c:\\users\\hp\\anaconda3\\lib\\site-packages (from importlib-metadata>=0.12->pytest->pyLDAvis->pycaret) (3.3.1)\n",
      "Requirement already satisfied: cffi!=1.11.3,>=1.8 in c:\\users\\hp\\anaconda3\\lib\\site-packages (from cryptography>=2.1.4->azure-storage-blob>=12.0.0->mlflow->pycaret) (1.14.3)\n",
      "Requirement already satisfied: requests-oauthlib>=0.5.0 in c:\\users\\hp\\anaconda3\\lib\\site-packages (from msrest>=0.6.10->azure-storage-blob>=12.0.0->mlflow->pycaret) (1.3.0)\n",
      "Requirement already satisfied: isodate>=0.6.0 in c:\\users\\hp\\anaconda3\\lib\\site-packages (from msrest>=0.6.10->azure-storage-blob>=12.0.0->mlflow->pycaret) (0.6.0)\n",
      "Requirement already satisfied: smmap<4,>=3.0.1 in c:\\users\\hp\\anaconda3\\lib\\site-packages (from gitdb<5,>=4.0.1->gitpython>=2.1.0->mlflow->pycaret) (3.0.4)\n",
      "Requirement already satisfied: argon2-cffi in c:\\users\\hp\\anaconda3\\lib\\site-packages (from notebook>=4.4.1->widgetsnbextension~=3.5.0->ipywidgets->pycaret) (20.1.0)\n",
      "Requirement already satisfied: Send2Trash in c:\\users\\hp\\anaconda3\\lib\\site-packages (from notebook>=4.4.1->widgetsnbextension~=3.5.0->ipywidgets->pycaret) (1.5.0)\n",
      "Requirement already satisfied: pyzmq>=17 in c:\\users\\hp\\anaconda3\\lib\\site-packages (from notebook>=4.4.1->widgetsnbextension~=3.5.0->ipywidgets->pycaret) (19.0.2)\n",
      "Requirement already satisfied: nbconvert in c:\\users\\hp\\anaconda3\\lib\\site-packages (from notebook>=4.4.1->widgetsnbextension~=3.5.0->ipywidgets->pycaret) (6.0.7)\n",
      "Requirement already satisfied: terminado>=0.8.3 in c:\\users\\hp\\anaconda3\\lib\\site-packages (from notebook>=4.4.1->widgetsnbextension~=3.5.0->ipywidgets->pycaret) (0.9.1)\n",
      "Requirement already satisfied: pyrsistent>=0.14.0 in c:\\users\\hp\\anaconda3\\lib\\site-packages (from jsonschema!=2.5.0,>=2.4->nbformat>=4.2.0->ipywidgets->pycaret) (0.17.3)\n",
      "Requirement already satisfied: PyWavelets in c:\\users\\hp\\anaconda3\\lib\\site-packages (from imagehash; extra == \"type_image_path\"->visions[type_image_path]==0.5.0->pandas-profiling>=2.8.0->pycaret) (1.1.1)\n",
      "Requirement already satisfied: pycparser in c:\\users\\hp\\anaconda3\\lib\\site-packages (from cffi!=1.11.3,>=1.8->cryptography>=2.1.4->azure-storage-blob>=12.0.0->mlflow->pycaret) (2.20)\n",
      "Requirement already satisfied: oauthlib>=3.0.0 in c:\\users\\hp\\anaconda3\\lib\\site-packages (from requests-oauthlib>=0.5.0->msrest>=0.6.10->azure-storage-blob>=12.0.0->mlflow->pycaret) (3.1.0)\n",
      "Requirement already satisfied: nbclient<0.6.0,>=0.5.0 in c:\\users\\hp\\anaconda3\\lib\\site-packages (from nbconvert->notebook>=4.4.1->widgetsnbextension~=3.5.0->ipywidgets->pycaret) (0.5.1)\n",
      "Requirement already satisfied: pandocfilters>=1.4.1 in c:\\users\\hp\\anaconda3\\lib\\site-packages (from nbconvert->notebook>=4.4.1->widgetsnbextension~=3.5.0->ipywidgets->pycaret) (1.4.2)\n",
      "Requirement already satisfied: defusedxml in c:\\users\\hp\\anaconda3\\lib\\site-packages (from nbconvert->notebook>=4.4.1->widgetsnbextension~=3.5.0->ipywidgets->pycaret) (0.6.0)\n",
      "Requirement already satisfied: jupyterlab-pygments in c:\\users\\hp\\anaconda3\\lib\\site-packages (from nbconvert->notebook>=4.4.1->widgetsnbextension~=3.5.0->ipywidgets->pycaret) (0.1.2)\n",
      "Requirement already satisfied: testpath in c:\\users\\hp\\anaconda3\\lib\\site-packages (from nbconvert->notebook>=4.4.1->widgetsnbextension~=3.5.0->ipywidgets->pycaret) (0.4.4)\n",
      "Requirement already satisfied: mistune<2,>=0.8.1 in c:\\users\\hp\\anaconda3\\lib\\site-packages (from nbconvert->notebook>=4.4.1->widgetsnbextension~=3.5.0->ipywidgets->pycaret) (0.8.4)\n",
      "Requirement already satisfied: bleach in c:\\users\\hp\\anaconda3\\lib\\site-packages (from nbconvert->notebook>=4.4.1->widgetsnbextension~=3.5.0->ipywidgets->pycaret) (3.2.1)\n",
      "Requirement already satisfied: pywinpty>=0.5 in c:\\users\\hp\\anaconda3\\lib\\site-packages (from terminado>=0.8.3->notebook>=4.4.1->widgetsnbextension~=3.5.0->ipywidgets->pycaret) (0.5.7)\n",
      "Requirement already satisfied: async-generator in c:\\users\\hp\\anaconda3\\lib\\site-packages (from nbclient<0.6.0,>=0.5.0->nbconvert->notebook>=4.4.1->widgetsnbextension~=3.5.0->ipywidgets->pycaret) (1.10)\n",
      "Requirement already satisfied: nest-asyncio in c:\\users\\hp\\anaconda3\\lib\\site-packages (from nbclient<0.6.0,>=0.5.0->nbconvert->notebook>=4.4.1->widgetsnbextension~=3.5.0->ipywidgets->pycaret) (1.4.1)\n",
      "Requirement already satisfied: webencodings in c:\\users\\hp\\anaconda3\\lib\\site-packages (from bleach->nbconvert->notebook>=4.4.1->widgetsnbextension~=3.5.0->ipywidgets->pycaret) (0.5.1)\n"
     ]
    }
   ],
   "source": [
    "!pip install pycaret"
   ]
  },
  {
   "cell_type": "code",
   "execution_count": 56,
   "metadata": {},
   "outputs": [],
   "source": [
    "from pycaret.regression import *"
   ]
  },
  {
   "cell_type": "code",
   "execution_count": 57,
   "metadata": {},
   "outputs": [
    {
     "data": {
      "text/html": [
       "<style  type=\"text/css\" >\n",
       "</style><table id=\"T_ffdbf3a6_58ac_11eb_982e_e86f38170ecc\" ><thead>    <tr>        <th class=\"blank level0\" ></th>        <th class=\"col_heading level0 col0\" >Description</th>        <th class=\"col_heading level0 col1\" >Value</th>    </tr></thead><tbody>\n",
       "                <tr>\n",
       "                        <th id=\"T_ffdbf3a6_58ac_11eb_982e_e86f38170ecclevel0_row0\" class=\"row_heading level0 row0\" >0</th>\n",
       "                        <td id=\"T_ffdbf3a6_58ac_11eb_982e_e86f38170eccrow0_col0\" class=\"data row0 col0\" >session_id</td>\n",
       "                        <td id=\"T_ffdbf3a6_58ac_11eb_982e_e86f38170eccrow0_col1\" class=\"data row0 col1\" >2995</td>\n",
       "            </tr>\n",
       "            <tr>\n",
       "                        <th id=\"T_ffdbf3a6_58ac_11eb_982e_e86f38170ecclevel0_row1\" class=\"row_heading level0 row1\" >1</th>\n",
       "                        <td id=\"T_ffdbf3a6_58ac_11eb_982e_e86f38170eccrow1_col0\" class=\"data row1 col0\" >Target</td>\n",
       "                        <td id=\"T_ffdbf3a6_58ac_11eb_982e_e86f38170eccrow1_col1\" class=\"data row1 col1\" >Calories</td>\n",
       "            </tr>\n",
       "            <tr>\n",
       "                        <th id=\"T_ffdbf3a6_58ac_11eb_982e_e86f38170ecclevel0_row2\" class=\"row_heading level0 row2\" >2</th>\n",
       "                        <td id=\"T_ffdbf3a6_58ac_11eb_982e_e86f38170eccrow2_col0\" class=\"data row2 col0\" >Original Data</td>\n",
       "                        <td id=\"T_ffdbf3a6_58ac_11eb_982e_e86f38170eccrow2_col1\" class=\"data row2 col1\" >(15000, 9)</td>\n",
       "            </tr>\n",
       "            <tr>\n",
       "                        <th id=\"T_ffdbf3a6_58ac_11eb_982e_e86f38170ecclevel0_row3\" class=\"row_heading level0 row3\" >3</th>\n",
       "                        <td id=\"T_ffdbf3a6_58ac_11eb_982e_e86f38170eccrow3_col0\" class=\"data row3 col0\" >Missing Values</td>\n",
       "                        <td id=\"T_ffdbf3a6_58ac_11eb_982e_e86f38170eccrow3_col1\" class=\"data row3 col1\" >False</td>\n",
       "            </tr>\n",
       "            <tr>\n",
       "                        <th id=\"T_ffdbf3a6_58ac_11eb_982e_e86f38170ecclevel0_row4\" class=\"row_heading level0 row4\" >4</th>\n",
       "                        <td id=\"T_ffdbf3a6_58ac_11eb_982e_e86f38170eccrow4_col0\" class=\"data row4 col0\" >Numeric Features</td>\n",
       "                        <td id=\"T_ffdbf3a6_58ac_11eb_982e_e86f38170eccrow4_col1\" class=\"data row4 col1\" >7</td>\n",
       "            </tr>\n",
       "            <tr>\n",
       "                        <th id=\"T_ffdbf3a6_58ac_11eb_982e_e86f38170ecclevel0_row5\" class=\"row_heading level0 row5\" >5</th>\n",
       "                        <td id=\"T_ffdbf3a6_58ac_11eb_982e_e86f38170eccrow5_col0\" class=\"data row5 col0\" >Categorical Features</td>\n",
       "                        <td id=\"T_ffdbf3a6_58ac_11eb_982e_e86f38170eccrow5_col1\" class=\"data row5 col1\" >1</td>\n",
       "            </tr>\n",
       "            <tr>\n",
       "                        <th id=\"T_ffdbf3a6_58ac_11eb_982e_e86f38170ecclevel0_row6\" class=\"row_heading level0 row6\" >6</th>\n",
       "                        <td id=\"T_ffdbf3a6_58ac_11eb_982e_e86f38170eccrow6_col0\" class=\"data row6 col0\" >Ordinal Features</td>\n",
       "                        <td id=\"T_ffdbf3a6_58ac_11eb_982e_e86f38170eccrow6_col1\" class=\"data row6 col1\" >False</td>\n",
       "            </tr>\n",
       "            <tr>\n",
       "                        <th id=\"T_ffdbf3a6_58ac_11eb_982e_e86f38170ecclevel0_row7\" class=\"row_heading level0 row7\" >7</th>\n",
       "                        <td id=\"T_ffdbf3a6_58ac_11eb_982e_e86f38170eccrow7_col0\" class=\"data row7 col0\" >High Cardinality Features</td>\n",
       "                        <td id=\"T_ffdbf3a6_58ac_11eb_982e_e86f38170eccrow7_col1\" class=\"data row7 col1\" >False</td>\n",
       "            </tr>\n",
       "            <tr>\n",
       "                        <th id=\"T_ffdbf3a6_58ac_11eb_982e_e86f38170ecclevel0_row8\" class=\"row_heading level0 row8\" >8</th>\n",
       "                        <td id=\"T_ffdbf3a6_58ac_11eb_982e_e86f38170eccrow8_col0\" class=\"data row8 col0\" >High Cardinality Method</td>\n",
       "                        <td id=\"T_ffdbf3a6_58ac_11eb_982e_e86f38170eccrow8_col1\" class=\"data row8 col1\" >None</td>\n",
       "            </tr>\n",
       "            <tr>\n",
       "                        <th id=\"T_ffdbf3a6_58ac_11eb_982e_e86f38170ecclevel0_row9\" class=\"row_heading level0 row9\" >9</th>\n",
       "                        <td id=\"T_ffdbf3a6_58ac_11eb_982e_e86f38170eccrow9_col0\" class=\"data row9 col0\" >Transformed Train Set</td>\n",
       "                        <td id=\"T_ffdbf3a6_58ac_11eb_982e_e86f38170eccrow9_col1\" class=\"data row9 col1\" >(10499, 8)</td>\n",
       "            </tr>\n",
       "            <tr>\n",
       "                        <th id=\"T_ffdbf3a6_58ac_11eb_982e_e86f38170ecclevel0_row10\" class=\"row_heading level0 row10\" >10</th>\n",
       "                        <td id=\"T_ffdbf3a6_58ac_11eb_982e_e86f38170eccrow10_col0\" class=\"data row10 col0\" >Transformed Test Set</td>\n",
       "                        <td id=\"T_ffdbf3a6_58ac_11eb_982e_e86f38170eccrow10_col1\" class=\"data row10 col1\" >(4501, 8)</td>\n",
       "            </tr>\n",
       "            <tr>\n",
       "                        <th id=\"T_ffdbf3a6_58ac_11eb_982e_e86f38170ecclevel0_row11\" class=\"row_heading level0 row11\" >11</th>\n",
       "                        <td id=\"T_ffdbf3a6_58ac_11eb_982e_e86f38170eccrow11_col0\" class=\"data row11 col0\" >Shuffle Train-Test</td>\n",
       "                        <td id=\"T_ffdbf3a6_58ac_11eb_982e_e86f38170eccrow11_col1\" class=\"data row11 col1\" >True</td>\n",
       "            </tr>\n",
       "            <tr>\n",
       "                        <th id=\"T_ffdbf3a6_58ac_11eb_982e_e86f38170ecclevel0_row12\" class=\"row_heading level0 row12\" >12</th>\n",
       "                        <td id=\"T_ffdbf3a6_58ac_11eb_982e_e86f38170eccrow12_col0\" class=\"data row12 col0\" >Stratify Train-Test</td>\n",
       "                        <td id=\"T_ffdbf3a6_58ac_11eb_982e_e86f38170eccrow12_col1\" class=\"data row12 col1\" >False</td>\n",
       "            </tr>\n",
       "            <tr>\n",
       "                        <th id=\"T_ffdbf3a6_58ac_11eb_982e_e86f38170ecclevel0_row13\" class=\"row_heading level0 row13\" >13</th>\n",
       "                        <td id=\"T_ffdbf3a6_58ac_11eb_982e_e86f38170eccrow13_col0\" class=\"data row13 col0\" >Fold Generator</td>\n",
       "                        <td id=\"T_ffdbf3a6_58ac_11eb_982e_e86f38170eccrow13_col1\" class=\"data row13 col1\" >KFold</td>\n",
       "            </tr>\n",
       "            <tr>\n",
       "                        <th id=\"T_ffdbf3a6_58ac_11eb_982e_e86f38170ecclevel0_row14\" class=\"row_heading level0 row14\" >14</th>\n",
       "                        <td id=\"T_ffdbf3a6_58ac_11eb_982e_e86f38170eccrow14_col0\" class=\"data row14 col0\" >Fold Number</td>\n",
       "                        <td id=\"T_ffdbf3a6_58ac_11eb_982e_e86f38170eccrow14_col1\" class=\"data row14 col1\" >10</td>\n",
       "            </tr>\n",
       "            <tr>\n",
       "                        <th id=\"T_ffdbf3a6_58ac_11eb_982e_e86f38170ecclevel0_row15\" class=\"row_heading level0 row15\" >15</th>\n",
       "                        <td id=\"T_ffdbf3a6_58ac_11eb_982e_e86f38170eccrow15_col0\" class=\"data row15 col0\" >CPU Jobs</td>\n",
       "                        <td id=\"T_ffdbf3a6_58ac_11eb_982e_e86f38170eccrow15_col1\" class=\"data row15 col1\" >-1</td>\n",
       "            </tr>\n",
       "            <tr>\n",
       "                        <th id=\"T_ffdbf3a6_58ac_11eb_982e_e86f38170ecclevel0_row16\" class=\"row_heading level0 row16\" >16</th>\n",
       "                        <td id=\"T_ffdbf3a6_58ac_11eb_982e_e86f38170eccrow16_col0\" class=\"data row16 col0\" >Use GPU</td>\n",
       "                        <td id=\"T_ffdbf3a6_58ac_11eb_982e_e86f38170eccrow16_col1\" class=\"data row16 col1\" >False</td>\n",
       "            </tr>\n",
       "            <tr>\n",
       "                        <th id=\"T_ffdbf3a6_58ac_11eb_982e_e86f38170ecclevel0_row17\" class=\"row_heading level0 row17\" >17</th>\n",
       "                        <td id=\"T_ffdbf3a6_58ac_11eb_982e_e86f38170eccrow17_col0\" class=\"data row17 col0\" >Log Experiment</td>\n",
       "                        <td id=\"T_ffdbf3a6_58ac_11eb_982e_e86f38170eccrow17_col1\" class=\"data row17 col1\" >False</td>\n",
       "            </tr>\n",
       "            <tr>\n",
       "                        <th id=\"T_ffdbf3a6_58ac_11eb_982e_e86f38170ecclevel0_row18\" class=\"row_heading level0 row18\" >18</th>\n",
       "                        <td id=\"T_ffdbf3a6_58ac_11eb_982e_e86f38170eccrow18_col0\" class=\"data row18 col0\" >Experiment Name</td>\n",
       "                        <td id=\"T_ffdbf3a6_58ac_11eb_982e_e86f38170eccrow18_col1\" class=\"data row18 col1\" >reg-default-name</td>\n",
       "            </tr>\n",
       "            <tr>\n",
       "                        <th id=\"T_ffdbf3a6_58ac_11eb_982e_e86f38170ecclevel0_row19\" class=\"row_heading level0 row19\" >19</th>\n",
       "                        <td id=\"T_ffdbf3a6_58ac_11eb_982e_e86f38170eccrow19_col0\" class=\"data row19 col0\" >USI</td>\n",
       "                        <td id=\"T_ffdbf3a6_58ac_11eb_982e_e86f38170eccrow19_col1\" class=\"data row19 col1\" >ff18</td>\n",
       "            </tr>\n",
       "            <tr>\n",
       "                        <th id=\"T_ffdbf3a6_58ac_11eb_982e_e86f38170ecclevel0_row20\" class=\"row_heading level0 row20\" >20</th>\n",
       "                        <td id=\"T_ffdbf3a6_58ac_11eb_982e_e86f38170eccrow20_col0\" class=\"data row20 col0\" >Imputation Type</td>\n",
       "                        <td id=\"T_ffdbf3a6_58ac_11eb_982e_e86f38170eccrow20_col1\" class=\"data row20 col1\" >simple</td>\n",
       "            </tr>\n",
       "            <tr>\n",
       "                        <th id=\"T_ffdbf3a6_58ac_11eb_982e_e86f38170ecclevel0_row21\" class=\"row_heading level0 row21\" >21</th>\n",
       "                        <td id=\"T_ffdbf3a6_58ac_11eb_982e_e86f38170eccrow21_col0\" class=\"data row21 col0\" >Iterative Imputation Iteration</td>\n",
       "                        <td id=\"T_ffdbf3a6_58ac_11eb_982e_e86f38170eccrow21_col1\" class=\"data row21 col1\" >None</td>\n",
       "            </tr>\n",
       "            <tr>\n",
       "                        <th id=\"T_ffdbf3a6_58ac_11eb_982e_e86f38170ecclevel0_row22\" class=\"row_heading level0 row22\" >22</th>\n",
       "                        <td id=\"T_ffdbf3a6_58ac_11eb_982e_e86f38170eccrow22_col0\" class=\"data row22 col0\" >Numeric Imputer</td>\n",
       "                        <td id=\"T_ffdbf3a6_58ac_11eb_982e_e86f38170eccrow22_col1\" class=\"data row22 col1\" >mean</td>\n",
       "            </tr>\n",
       "            <tr>\n",
       "                        <th id=\"T_ffdbf3a6_58ac_11eb_982e_e86f38170ecclevel0_row23\" class=\"row_heading level0 row23\" >23</th>\n",
       "                        <td id=\"T_ffdbf3a6_58ac_11eb_982e_e86f38170eccrow23_col0\" class=\"data row23 col0\" >Iterative Imputation Numeric Model</td>\n",
       "                        <td id=\"T_ffdbf3a6_58ac_11eb_982e_e86f38170eccrow23_col1\" class=\"data row23 col1\" >None</td>\n",
       "            </tr>\n",
       "            <tr>\n",
       "                        <th id=\"T_ffdbf3a6_58ac_11eb_982e_e86f38170ecclevel0_row24\" class=\"row_heading level0 row24\" >24</th>\n",
       "                        <td id=\"T_ffdbf3a6_58ac_11eb_982e_e86f38170eccrow24_col0\" class=\"data row24 col0\" >Categorical Imputer</td>\n",
       "                        <td id=\"T_ffdbf3a6_58ac_11eb_982e_e86f38170eccrow24_col1\" class=\"data row24 col1\" >constant</td>\n",
       "            </tr>\n",
       "            <tr>\n",
       "                        <th id=\"T_ffdbf3a6_58ac_11eb_982e_e86f38170ecclevel0_row25\" class=\"row_heading level0 row25\" >25</th>\n",
       "                        <td id=\"T_ffdbf3a6_58ac_11eb_982e_e86f38170eccrow25_col0\" class=\"data row25 col0\" >Iterative Imputation Categorical Model</td>\n",
       "                        <td id=\"T_ffdbf3a6_58ac_11eb_982e_e86f38170eccrow25_col1\" class=\"data row25 col1\" >None</td>\n",
       "            </tr>\n",
       "            <tr>\n",
       "                        <th id=\"T_ffdbf3a6_58ac_11eb_982e_e86f38170ecclevel0_row26\" class=\"row_heading level0 row26\" >26</th>\n",
       "                        <td id=\"T_ffdbf3a6_58ac_11eb_982e_e86f38170eccrow26_col0\" class=\"data row26 col0\" >Unknown Categoricals Handling</td>\n",
       "                        <td id=\"T_ffdbf3a6_58ac_11eb_982e_e86f38170eccrow26_col1\" class=\"data row26 col1\" >least_frequent</td>\n",
       "            </tr>\n",
       "            <tr>\n",
       "                        <th id=\"T_ffdbf3a6_58ac_11eb_982e_e86f38170ecclevel0_row27\" class=\"row_heading level0 row27\" >27</th>\n",
       "                        <td id=\"T_ffdbf3a6_58ac_11eb_982e_e86f38170eccrow27_col0\" class=\"data row27 col0\" >Normalize</td>\n",
       "                        <td id=\"T_ffdbf3a6_58ac_11eb_982e_e86f38170eccrow27_col1\" class=\"data row27 col1\" >False</td>\n",
       "            </tr>\n",
       "            <tr>\n",
       "                        <th id=\"T_ffdbf3a6_58ac_11eb_982e_e86f38170ecclevel0_row28\" class=\"row_heading level0 row28\" >28</th>\n",
       "                        <td id=\"T_ffdbf3a6_58ac_11eb_982e_e86f38170eccrow28_col0\" class=\"data row28 col0\" >Normalize Method</td>\n",
       "                        <td id=\"T_ffdbf3a6_58ac_11eb_982e_e86f38170eccrow28_col1\" class=\"data row28 col1\" >None</td>\n",
       "            </tr>\n",
       "            <tr>\n",
       "                        <th id=\"T_ffdbf3a6_58ac_11eb_982e_e86f38170ecclevel0_row29\" class=\"row_heading level0 row29\" >29</th>\n",
       "                        <td id=\"T_ffdbf3a6_58ac_11eb_982e_e86f38170eccrow29_col0\" class=\"data row29 col0\" >Transformation</td>\n",
       "                        <td id=\"T_ffdbf3a6_58ac_11eb_982e_e86f38170eccrow29_col1\" class=\"data row29 col1\" >False</td>\n",
       "            </tr>\n",
       "            <tr>\n",
       "                        <th id=\"T_ffdbf3a6_58ac_11eb_982e_e86f38170ecclevel0_row30\" class=\"row_heading level0 row30\" >30</th>\n",
       "                        <td id=\"T_ffdbf3a6_58ac_11eb_982e_e86f38170eccrow30_col0\" class=\"data row30 col0\" >Transformation Method</td>\n",
       "                        <td id=\"T_ffdbf3a6_58ac_11eb_982e_e86f38170eccrow30_col1\" class=\"data row30 col1\" >None</td>\n",
       "            </tr>\n",
       "            <tr>\n",
       "                        <th id=\"T_ffdbf3a6_58ac_11eb_982e_e86f38170ecclevel0_row31\" class=\"row_heading level0 row31\" >31</th>\n",
       "                        <td id=\"T_ffdbf3a6_58ac_11eb_982e_e86f38170eccrow31_col0\" class=\"data row31 col0\" >PCA</td>\n",
       "                        <td id=\"T_ffdbf3a6_58ac_11eb_982e_e86f38170eccrow31_col1\" class=\"data row31 col1\" >False</td>\n",
       "            </tr>\n",
       "            <tr>\n",
       "                        <th id=\"T_ffdbf3a6_58ac_11eb_982e_e86f38170ecclevel0_row32\" class=\"row_heading level0 row32\" >32</th>\n",
       "                        <td id=\"T_ffdbf3a6_58ac_11eb_982e_e86f38170eccrow32_col0\" class=\"data row32 col0\" >PCA Method</td>\n",
       "                        <td id=\"T_ffdbf3a6_58ac_11eb_982e_e86f38170eccrow32_col1\" class=\"data row32 col1\" >None</td>\n",
       "            </tr>\n",
       "            <tr>\n",
       "                        <th id=\"T_ffdbf3a6_58ac_11eb_982e_e86f38170ecclevel0_row33\" class=\"row_heading level0 row33\" >33</th>\n",
       "                        <td id=\"T_ffdbf3a6_58ac_11eb_982e_e86f38170eccrow33_col0\" class=\"data row33 col0\" >PCA Components</td>\n",
       "                        <td id=\"T_ffdbf3a6_58ac_11eb_982e_e86f38170eccrow33_col1\" class=\"data row33 col1\" >None</td>\n",
       "            </tr>\n",
       "            <tr>\n",
       "                        <th id=\"T_ffdbf3a6_58ac_11eb_982e_e86f38170ecclevel0_row34\" class=\"row_heading level0 row34\" >34</th>\n",
       "                        <td id=\"T_ffdbf3a6_58ac_11eb_982e_e86f38170eccrow34_col0\" class=\"data row34 col0\" >Ignore Low Variance</td>\n",
       "                        <td id=\"T_ffdbf3a6_58ac_11eb_982e_e86f38170eccrow34_col1\" class=\"data row34 col1\" >False</td>\n",
       "            </tr>\n",
       "            <tr>\n",
       "                        <th id=\"T_ffdbf3a6_58ac_11eb_982e_e86f38170ecclevel0_row35\" class=\"row_heading level0 row35\" >35</th>\n",
       "                        <td id=\"T_ffdbf3a6_58ac_11eb_982e_e86f38170eccrow35_col0\" class=\"data row35 col0\" >Combine Rare Levels</td>\n",
       "                        <td id=\"T_ffdbf3a6_58ac_11eb_982e_e86f38170eccrow35_col1\" class=\"data row35 col1\" >False</td>\n",
       "            </tr>\n",
       "            <tr>\n",
       "                        <th id=\"T_ffdbf3a6_58ac_11eb_982e_e86f38170ecclevel0_row36\" class=\"row_heading level0 row36\" >36</th>\n",
       "                        <td id=\"T_ffdbf3a6_58ac_11eb_982e_e86f38170eccrow36_col0\" class=\"data row36 col0\" >Rare Level Threshold</td>\n",
       "                        <td id=\"T_ffdbf3a6_58ac_11eb_982e_e86f38170eccrow36_col1\" class=\"data row36 col1\" >None</td>\n",
       "            </tr>\n",
       "            <tr>\n",
       "                        <th id=\"T_ffdbf3a6_58ac_11eb_982e_e86f38170ecclevel0_row37\" class=\"row_heading level0 row37\" >37</th>\n",
       "                        <td id=\"T_ffdbf3a6_58ac_11eb_982e_e86f38170eccrow37_col0\" class=\"data row37 col0\" >Numeric Binning</td>\n",
       "                        <td id=\"T_ffdbf3a6_58ac_11eb_982e_e86f38170eccrow37_col1\" class=\"data row37 col1\" >False</td>\n",
       "            </tr>\n",
       "            <tr>\n",
       "                        <th id=\"T_ffdbf3a6_58ac_11eb_982e_e86f38170ecclevel0_row38\" class=\"row_heading level0 row38\" >38</th>\n",
       "                        <td id=\"T_ffdbf3a6_58ac_11eb_982e_e86f38170eccrow38_col0\" class=\"data row38 col0\" >Remove Outliers</td>\n",
       "                        <td id=\"T_ffdbf3a6_58ac_11eb_982e_e86f38170eccrow38_col1\" class=\"data row38 col1\" >False</td>\n",
       "            </tr>\n",
       "            <tr>\n",
       "                        <th id=\"T_ffdbf3a6_58ac_11eb_982e_e86f38170ecclevel0_row39\" class=\"row_heading level0 row39\" >39</th>\n",
       "                        <td id=\"T_ffdbf3a6_58ac_11eb_982e_e86f38170eccrow39_col0\" class=\"data row39 col0\" >Outliers Threshold</td>\n",
       "                        <td id=\"T_ffdbf3a6_58ac_11eb_982e_e86f38170eccrow39_col1\" class=\"data row39 col1\" >None</td>\n",
       "            </tr>\n",
       "            <tr>\n",
       "                        <th id=\"T_ffdbf3a6_58ac_11eb_982e_e86f38170ecclevel0_row40\" class=\"row_heading level0 row40\" >40</th>\n",
       "                        <td id=\"T_ffdbf3a6_58ac_11eb_982e_e86f38170eccrow40_col0\" class=\"data row40 col0\" >Remove Multicollinearity</td>\n",
       "                        <td id=\"T_ffdbf3a6_58ac_11eb_982e_e86f38170eccrow40_col1\" class=\"data row40 col1\" >False</td>\n",
       "            </tr>\n",
       "            <tr>\n",
       "                        <th id=\"T_ffdbf3a6_58ac_11eb_982e_e86f38170ecclevel0_row41\" class=\"row_heading level0 row41\" >41</th>\n",
       "                        <td id=\"T_ffdbf3a6_58ac_11eb_982e_e86f38170eccrow41_col0\" class=\"data row41 col0\" >Multicollinearity Threshold</td>\n",
       "                        <td id=\"T_ffdbf3a6_58ac_11eb_982e_e86f38170eccrow41_col1\" class=\"data row41 col1\" >None</td>\n",
       "            </tr>\n",
       "            <tr>\n",
       "                        <th id=\"T_ffdbf3a6_58ac_11eb_982e_e86f38170ecclevel0_row42\" class=\"row_heading level0 row42\" >42</th>\n",
       "                        <td id=\"T_ffdbf3a6_58ac_11eb_982e_e86f38170eccrow42_col0\" class=\"data row42 col0\" >Clustering</td>\n",
       "                        <td id=\"T_ffdbf3a6_58ac_11eb_982e_e86f38170eccrow42_col1\" class=\"data row42 col1\" >False</td>\n",
       "            </tr>\n",
       "            <tr>\n",
       "                        <th id=\"T_ffdbf3a6_58ac_11eb_982e_e86f38170ecclevel0_row43\" class=\"row_heading level0 row43\" >43</th>\n",
       "                        <td id=\"T_ffdbf3a6_58ac_11eb_982e_e86f38170eccrow43_col0\" class=\"data row43 col0\" >Clustering Iteration</td>\n",
       "                        <td id=\"T_ffdbf3a6_58ac_11eb_982e_e86f38170eccrow43_col1\" class=\"data row43 col1\" >None</td>\n",
       "            </tr>\n",
       "            <tr>\n",
       "                        <th id=\"T_ffdbf3a6_58ac_11eb_982e_e86f38170ecclevel0_row44\" class=\"row_heading level0 row44\" >44</th>\n",
       "                        <td id=\"T_ffdbf3a6_58ac_11eb_982e_e86f38170eccrow44_col0\" class=\"data row44 col0\" >Polynomial Features</td>\n",
       "                        <td id=\"T_ffdbf3a6_58ac_11eb_982e_e86f38170eccrow44_col1\" class=\"data row44 col1\" >False</td>\n",
       "            </tr>\n",
       "            <tr>\n",
       "                        <th id=\"T_ffdbf3a6_58ac_11eb_982e_e86f38170ecclevel0_row45\" class=\"row_heading level0 row45\" >45</th>\n",
       "                        <td id=\"T_ffdbf3a6_58ac_11eb_982e_e86f38170eccrow45_col0\" class=\"data row45 col0\" >Polynomial Degree</td>\n",
       "                        <td id=\"T_ffdbf3a6_58ac_11eb_982e_e86f38170eccrow45_col1\" class=\"data row45 col1\" >None</td>\n",
       "            </tr>\n",
       "            <tr>\n",
       "                        <th id=\"T_ffdbf3a6_58ac_11eb_982e_e86f38170ecclevel0_row46\" class=\"row_heading level0 row46\" >46</th>\n",
       "                        <td id=\"T_ffdbf3a6_58ac_11eb_982e_e86f38170eccrow46_col0\" class=\"data row46 col0\" >Trignometry Features</td>\n",
       "                        <td id=\"T_ffdbf3a6_58ac_11eb_982e_e86f38170eccrow46_col1\" class=\"data row46 col1\" >False</td>\n",
       "            </tr>\n",
       "            <tr>\n",
       "                        <th id=\"T_ffdbf3a6_58ac_11eb_982e_e86f38170ecclevel0_row47\" class=\"row_heading level0 row47\" >47</th>\n",
       "                        <td id=\"T_ffdbf3a6_58ac_11eb_982e_e86f38170eccrow47_col0\" class=\"data row47 col0\" >Polynomial Threshold</td>\n",
       "                        <td id=\"T_ffdbf3a6_58ac_11eb_982e_e86f38170eccrow47_col1\" class=\"data row47 col1\" >None</td>\n",
       "            </tr>\n",
       "            <tr>\n",
       "                        <th id=\"T_ffdbf3a6_58ac_11eb_982e_e86f38170ecclevel0_row48\" class=\"row_heading level0 row48\" >48</th>\n",
       "                        <td id=\"T_ffdbf3a6_58ac_11eb_982e_e86f38170eccrow48_col0\" class=\"data row48 col0\" >Group Features</td>\n",
       "                        <td id=\"T_ffdbf3a6_58ac_11eb_982e_e86f38170eccrow48_col1\" class=\"data row48 col1\" >False</td>\n",
       "            </tr>\n",
       "            <tr>\n",
       "                        <th id=\"T_ffdbf3a6_58ac_11eb_982e_e86f38170ecclevel0_row49\" class=\"row_heading level0 row49\" >49</th>\n",
       "                        <td id=\"T_ffdbf3a6_58ac_11eb_982e_e86f38170eccrow49_col0\" class=\"data row49 col0\" >Feature Selection</td>\n",
       "                        <td id=\"T_ffdbf3a6_58ac_11eb_982e_e86f38170eccrow49_col1\" class=\"data row49 col1\" >False</td>\n",
       "            </tr>\n",
       "            <tr>\n",
       "                        <th id=\"T_ffdbf3a6_58ac_11eb_982e_e86f38170ecclevel0_row50\" class=\"row_heading level0 row50\" >50</th>\n",
       "                        <td id=\"T_ffdbf3a6_58ac_11eb_982e_e86f38170eccrow50_col0\" class=\"data row50 col0\" >Features Selection Threshold</td>\n",
       "                        <td id=\"T_ffdbf3a6_58ac_11eb_982e_e86f38170eccrow50_col1\" class=\"data row50 col1\" >None</td>\n",
       "            </tr>\n",
       "            <tr>\n",
       "                        <th id=\"T_ffdbf3a6_58ac_11eb_982e_e86f38170ecclevel0_row51\" class=\"row_heading level0 row51\" >51</th>\n",
       "                        <td id=\"T_ffdbf3a6_58ac_11eb_982e_e86f38170eccrow51_col0\" class=\"data row51 col0\" >Feature Interaction</td>\n",
       "                        <td id=\"T_ffdbf3a6_58ac_11eb_982e_e86f38170eccrow51_col1\" class=\"data row51 col1\" >False</td>\n",
       "            </tr>\n",
       "            <tr>\n",
       "                        <th id=\"T_ffdbf3a6_58ac_11eb_982e_e86f38170ecclevel0_row52\" class=\"row_heading level0 row52\" >52</th>\n",
       "                        <td id=\"T_ffdbf3a6_58ac_11eb_982e_e86f38170eccrow52_col0\" class=\"data row52 col0\" >Feature Ratio</td>\n",
       "                        <td id=\"T_ffdbf3a6_58ac_11eb_982e_e86f38170eccrow52_col1\" class=\"data row52 col1\" >False</td>\n",
       "            </tr>\n",
       "            <tr>\n",
       "                        <th id=\"T_ffdbf3a6_58ac_11eb_982e_e86f38170ecclevel0_row53\" class=\"row_heading level0 row53\" >53</th>\n",
       "                        <td id=\"T_ffdbf3a6_58ac_11eb_982e_e86f38170eccrow53_col0\" class=\"data row53 col0\" >Interaction Threshold</td>\n",
       "                        <td id=\"T_ffdbf3a6_58ac_11eb_982e_e86f38170eccrow53_col1\" class=\"data row53 col1\" >None</td>\n",
       "            </tr>\n",
       "            <tr>\n",
       "                        <th id=\"T_ffdbf3a6_58ac_11eb_982e_e86f38170ecclevel0_row54\" class=\"row_heading level0 row54\" >54</th>\n",
       "                        <td id=\"T_ffdbf3a6_58ac_11eb_982e_e86f38170eccrow54_col0\" class=\"data row54 col0\" >Transform Target</td>\n",
       "                        <td id=\"T_ffdbf3a6_58ac_11eb_982e_e86f38170eccrow54_col1\" class=\"data row54 col1\" >False</td>\n",
       "            </tr>\n",
       "            <tr>\n",
       "                        <th id=\"T_ffdbf3a6_58ac_11eb_982e_e86f38170ecclevel0_row55\" class=\"row_heading level0 row55\" >55</th>\n",
       "                        <td id=\"T_ffdbf3a6_58ac_11eb_982e_e86f38170eccrow55_col0\" class=\"data row55 col0\" >Transform Target Method</td>\n",
       "                        <td id=\"T_ffdbf3a6_58ac_11eb_982e_e86f38170eccrow55_col1\" class=\"data row55 col1\" >box-cox</td>\n",
       "            </tr>\n",
       "    </tbody></table>"
      ],
      "text/plain": [
       "<pandas.io.formats.style.Styler at 0x216d5652b88>"
      ]
     },
     "metadata": {},
     "output_type": "display_data"
    }
   ],
   "source": [
    "reg=setup(data=df4,target='Calories')"
   ]
  },
  {
   "cell_type": "code",
   "execution_count": 58,
   "metadata": {
    "scrolled": true
   },
   "outputs": [
    {
     "data": {
      "text/html": [
       "<style  type=\"text/css\" >\n",
       "    #T_44e69626_58ad_11eb_8d5d_e86f38170ecc th {\n",
       "          text-align: left;\n",
       "    }#T_44e69626_58ad_11eb_8d5d_e86f38170eccrow0_col0,#T_44e69626_58ad_11eb_8d5d_e86f38170eccrow1_col0,#T_44e69626_58ad_11eb_8d5d_e86f38170eccrow1_col1,#T_44e69626_58ad_11eb_8d5d_e86f38170eccrow1_col2,#T_44e69626_58ad_11eb_8d5d_e86f38170eccrow1_col3,#T_44e69626_58ad_11eb_8d5d_e86f38170eccrow1_col4,#T_44e69626_58ad_11eb_8d5d_e86f38170eccrow1_col5,#T_44e69626_58ad_11eb_8d5d_e86f38170eccrow1_col6,#T_44e69626_58ad_11eb_8d5d_e86f38170eccrow2_col0,#T_44e69626_58ad_11eb_8d5d_e86f38170eccrow2_col1,#T_44e69626_58ad_11eb_8d5d_e86f38170eccrow2_col2,#T_44e69626_58ad_11eb_8d5d_e86f38170eccrow2_col3,#T_44e69626_58ad_11eb_8d5d_e86f38170eccrow2_col4,#T_44e69626_58ad_11eb_8d5d_e86f38170eccrow2_col5,#T_44e69626_58ad_11eb_8d5d_e86f38170eccrow2_col6,#T_44e69626_58ad_11eb_8d5d_e86f38170eccrow3_col0,#T_44e69626_58ad_11eb_8d5d_e86f38170eccrow3_col1,#T_44e69626_58ad_11eb_8d5d_e86f38170eccrow3_col2,#T_44e69626_58ad_11eb_8d5d_e86f38170eccrow3_col3,#T_44e69626_58ad_11eb_8d5d_e86f38170eccrow3_col4,#T_44e69626_58ad_11eb_8d5d_e86f38170eccrow3_col5,#T_44e69626_58ad_11eb_8d5d_e86f38170eccrow3_col6,#T_44e69626_58ad_11eb_8d5d_e86f38170eccrow4_col0,#T_44e69626_58ad_11eb_8d5d_e86f38170eccrow4_col1,#T_44e69626_58ad_11eb_8d5d_e86f38170eccrow4_col2,#T_44e69626_58ad_11eb_8d5d_e86f38170eccrow4_col3,#T_44e69626_58ad_11eb_8d5d_e86f38170eccrow4_col4,#T_44e69626_58ad_11eb_8d5d_e86f38170eccrow4_col5,#T_44e69626_58ad_11eb_8d5d_e86f38170eccrow4_col6,#T_44e69626_58ad_11eb_8d5d_e86f38170eccrow5_col0,#T_44e69626_58ad_11eb_8d5d_e86f38170eccrow5_col1,#T_44e69626_58ad_11eb_8d5d_e86f38170eccrow5_col2,#T_44e69626_58ad_11eb_8d5d_e86f38170eccrow5_col3,#T_44e69626_58ad_11eb_8d5d_e86f38170eccrow5_col4,#T_44e69626_58ad_11eb_8d5d_e86f38170eccrow5_col5,#T_44e69626_58ad_11eb_8d5d_e86f38170eccrow5_col6,#T_44e69626_58ad_11eb_8d5d_e86f38170eccrow6_col0,#T_44e69626_58ad_11eb_8d5d_e86f38170eccrow6_col1,#T_44e69626_58ad_11eb_8d5d_e86f38170eccrow6_col2,#T_44e69626_58ad_11eb_8d5d_e86f38170eccrow6_col3,#T_44e69626_58ad_11eb_8d5d_e86f38170eccrow6_col4,#T_44e69626_58ad_11eb_8d5d_e86f38170eccrow6_col5,#T_44e69626_58ad_11eb_8d5d_e86f38170eccrow6_col6,#T_44e69626_58ad_11eb_8d5d_e86f38170eccrow7_col0,#T_44e69626_58ad_11eb_8d5d_e86f38170eccrow7_col1,#T_44e69626_58ad_11eb_8d5d_e86f38170eccrow7_col2,#T_44e69626_58ad_11eb_8d5d_e86f38170eccrow7_col3,#T_44e69626_58ad_11eb_8d5d_e86f38170eccrow7_col4,#T_44e69626_58ad_11eb_8d5d_e86f38170eccrow7_col5,#T_44e69626_58ad_11eb_8d5d_e86f38170eccrow7_col6,#T_44e69626_58ad_11eb_8d5d_e86f38170eccrow8_col0,#T_44e69626_58ad_11eb_8d5d_e86f38170eccrow8_col1,#T_44e69626_58ad_11eb_8d5d_e86f38170eccrow8_col2,#T_44e69626_58ad_11eb_8d5d_e86f38170eccrow8_col3,#T_44e69626_58ad_11eb_8d5d_e86f38170eccrow8_col4,#T_44e69626_58ad_11eb_8d5d_e86f38170eccrow8_col5,#T_44e69626_58ad_11eb_8d5d_e86f38170eccrow8_col6,#T_44e69626_58ad_11eb_8d5d_e86f38170eccrow9_col0,#T_44e69626_58ad_11eb_8d5d_e86f38170eccrow9_col1,#T_44e69626_58ad_11eb_8d5d_e86f38170eccrow9_col2,#T_44e69626_58ad_11eb_8d5d_e86f38170eccrow9_col3,#T_44e69626_58ad_11eb_8d5d_e86f38170eccrow9_col4,#T_44e69626_58ad_11eb_8d5d_e86f38170eccrow9_col5,#T_44e69626_58ad_11eb_8d5d_e86f38170eccrow9_col6,#T_44e69626_58ad_11eb_8d5d_e86f38170eccrow10_col0,#T_44e69626_58ad_11eb_8d5d_e86f38170eccrow10_col1,#T_44e69626_58ad_11eb_8d5d_e86f38170eccrow10_col2,#T_44e69626_58ad_11eb_8d5d_e86f38170eccrow10_col3,#T_44e69626_58ad_11eb_8d5d_e86f38170eccrow10_col4,#T_44e69626_58ad_11eb_8d5d_e86f38170eccrow10_col5,#T_44e69626_58ad_11eb_8d5d_e86f38170eccrow10_col6,#T_44e69626_58ad_11eb_8d5d_e86f38170eccrow11_col0,#T_44e69626_58ad_11eb_8d5d_e86f38170eccrow11_col1,#T_44e69626_58ad_11eb_8d5d_e86f38170eccrow11_col2,#T_44e69626_58ad_11eb_8d5d_e86f38170eccrow11_col3,#T_44e69626_58ad_11eb_8d5d_e86f38170eccrow11_col4,#T_44e69626_58ad_11eb_8d5d_e86f38170eccrow11_col5,#T_44e69626_58ad_11eb_8d5d_e86f38170eccrow11_col6,#T_44e69626_58ad_11eb_8d5d_e86f38170eccrow12_col0,#T_44e69626_58ad_11eb_8d5d_e86f38170eccrow12_col1,#T_44e69626_58ad_11eb_8d5d_e86f38170eccrow12_col2,#T_44e69626_58ad_11eb_8d5d_e86f38170eccrow12_col3,#T_44e69626_58ad_11eb_8d5d_e86f38170eccrow12_col4,#T_44e69626_58ad_11eb_8d5d_e86f38170eccrow12_col5,#T_44e69626_58ad_11eb_8d5d_e86f38170eccrow12_col6,#T_44e69626_58ad_11eb_8d5d_e86f38170eccrow13_col0,#T_44e69626_58ad_11eb_8d5d_e86f38170eccrow13_col1,#T_44e69626_58ad_11eb_8d5d_e86f38170eccrow13_col2,#T_44e69626_58ad_11eb_8d5d_e86f38170eccrow13_col3,#T_44e69626_58ad_11eb_8d5d_e86f38170eccrow13_col4,#T_44e69626_58ad_11eb_8d5d_e86f38170eccrow13_col5,#T_44e69626_58ad_11eb_8d5d_e86f38170eccrow13_col6,#T_44e69626_58ad_11eb_8d5d_e86f38170eccrow14_col0,#T_44e69626_58ad_11eb_8d5d_e86f38170eccrow14_col1,#T_44e69626_58ad_11eb_8d5d_e86f38170eccrow14_col2,#T_44e69626_58ad_11eb_8d5d_e86f38170eccrow14_col3,#T_44e69626_58ad_11eb_8d5d_e86f38170eccrow14_col4,#T_44e69626_58ad_11eb_8d5d_e86f38170eccrow14_col5,#T_44e69626_58ad_11eb_8d5d_e86f38170eccrow14_col6,#T_44e69626_58ad_11eb_8d5d_e86f38170eccrow15_col0,#T_44e69626_58ad_11eb_8d5d_e86f38170eccrow15_col1,#T_44e69626_58ad_11eb_8d5d_e86f38170eccrow15_col2,#T_44e69626_58ad_11eb_8d5d_e86f38170eccrow15_col3,#T_44e69626_58ad_11eb_8d5d_e86f38170eccrow15_col4,#T_44e69626_58ad_11eb_8d5d_e86f38170eccrow15_col5,#T_44e69626_58ad_11eb_8d5d_e86f38170eccrow15_col6,#T_44e69626_58ad_11eb_8d5d_e86f38170eccrow16_col0,#T_44e69626_58ad_11eb_8d5d_e86f38170eccrow16_col1,#T_44e69626_58ad_11eb_8d5d_e86f38170eccrow16_col2,#T_44e69626_58ad_11eb_8d5d_e86f38170eccrow16_col3,#T_44e69626_58ad_11eb_8d5d_e86f38170eccrow16_col4,#T_44e69626_58ad_11eb_8d5d_e86f38170eccrow16_col5,#T_44e69626_58ad_11eb_8d5d_e86f38170eccrow16_col6,#T_44e69626_58ad_11eb_8d5d_e86f38170eccrow17_col0,#T_44e69626_58ad_11eb_8d5d_e86f38170eccrow17_col1,#T_44e69626_58ad_11eb_8d5d_e86f38170eccrow17_col2,#T_44e69626_58ad_11eb_8d5d_e86f38170eccrow17_col3,#T_44e69626_58ad_11eb_8d5d_e86f38170eccrow17_col4,#T_44e69626_58ad_11eb_8d5d_e86f38170eccrow17_col5,#T_44e69626_58ad_11eb_8d5d_e86f38170eccrow17_col6,#T_44e69626_58ad_11eb_8d5d_e86f38170eccrow18_col0,#T_44e69626_58ad_11eb_8d5d_e86f38170eccrow18_col1,#T_44e69626_58ad_11eb_8d5d_e86f38170eccrow18_col2,#T_44e69626_58ad_11eb_8d5d_e86f38170eccrow18_col3,#T_44e69626_58ad_11eb_8d5d_e86f38170eccrow18_col4,#T_44e69626_58ad_11eb_8d5d_e86f38170eccrow18_col5,#T_44e69626_58ad_11eb_8d5d_e86f38170eccrow18_col6{\n",
       "            text-align:  left;\n",
       "            text-align:  left;\n",
       "        }#T_44e69626_58ad_11eb_8d5d_e86f38170eccrow0_col1,#T_44e69626_58ad_11eb_8d5d_e86f38170eccrow0_col2,#T_44e69626_58ad_11eb_8d5d_e86f38170eccrow0_col3,#T_44e69626_58ad_11eb_8d5d_e86f38170eccrow0_col4,#T_44e69626_58ad_11eb_8d5d_e86f38170eccrow0_col5,#T_44e69626_58ad_11eb_8d5d_e86f38170eccrow0_col6{\n",
       "            text-align:  left;\n",
       "            text-align:  left;\n",
       "            background-color:  yellow;\n",
       "        }#T_44e69626_58ad_11eb_8d5d_e86f38170eccrow0_col7,#T_44e69626_58ad_11eb_8d5d_e86f38170eccrow1_col7,#T_44e69626_58ad_11eb_8d5d_e86f38170eccrow2_col7,#T_44e69626_58ad_11eb_8d5d_e86f38170eccrow3_col7,#T_44e69626_58ad_11eb_8d5d_e86f38170eccrow4_col7,#T_44e69626_58ad_11eb_8d5d_e86f38170eccrow5_col7,#T_44e69626_58ad_11eb_8d5d_e86f38170eccrow6_col7,#T_44e69626_58ad_11eb_8d5d_e86f38170eccrow7_col7,#T_44e69626_58ad_11eb_8d5d_e86f38170eccrow8_col7,#T_44e69626_58ad_11eb_8d5d_e86f38170eccrow10_col7,#T_44e69626_58ad_11eb_8d5d_e86f38170eccrow11_col7,#T_44e69626_58ad_11eb_8d5d_e86f38170eccrow12_col7,#T_44e69626_58ad_11eb_8d5d_e86f38170eccrow13_col7,#T_44e69626_58ad_11eb_8d5d_e86f38170eccrow14_col7,#T_44e69626_58ad_11eb_8d5d_e86f38170eccrow15_col7,#T_44e69626_58ad_11eb_8d5d_e86f38170eccrow16_col7,#T_44e69626_58ad_11eb_8d5d_e86f38170eccrow17_col7,#T_44e69626_58ad_11eb_8d5d_e86f38170eccrow18_col7{\n",
       "            text-align:  left;\n",
       "            text-align:  left;\n",
       "            background-color:  lightgrey;\n",
       "        }#T_44e69626_58ad_11eb_8d5d_e86f38170eccrow9_col7{\n",
       "            text-align:  left;\n",
       "            text-align:  left;\n",
       "            background-color:  yellow;\n",
       "            background-color:  lightgrey;\n",
       "        }</style><table id=\"T_44e69626_58ad_11eb_8d5d_e86f38170ecc\" ><thead>    <tr>        <th class=\"blank level0\" ></th>        <th class=\"col_heading level0 col0\" >Model</th>        <th class=\"col_heading level0 col1\" >MAE</th>        <th class=\"col_heading level0 col2\" >MSE</th>        <th class=\"col_heading level0 col3\" >RMSE</th>        <th class=\"col_heading level0 col4\" >R2</th>        <th class=\"col_heading level0 col5\" >RMSLE</th>        <th class=\"col_heading level0 col6\" >MAPE</th>        <th class=\"col_heading level0 col7\" >TT (Sec)</th>    </tr></thead><tbody>\n",
       "                <tr>\n",
       "                        <th id=\"T_44e69626_58ad_11eb_8d5d_e86f38170ecclevel0_row0\" class=\"row_heading level0 row0\" >catboost</th>\n",
       "                        <td id=\"T_44e69626_58ad_11eb_8d5d_e86f38170eccrow0_col0\" class=\"data row0 col0\" >CatBoost Regressor</td>\n",
       "                        <td id=\"T_44e69626_58ad_11eb_8d5d_e86f38170eccrow0_col1\" class=\"data row0 col1\" >0.0086</td>\n",
       "                        <td id=\"T_44e69626_58ad_11eb_8d5d_e86f38170eccrow0_col2\" class=\"data row0 col2\" >0.0002</td>\n",
       "                        <td id=\"T_44e69626_58ad_11eb_8d5d_e86f38170eccrow0_col3\" class=\"data row0 col3\" >0.0125</td>\n",
       "                        <td id=\"T_44e69626_58ad_11eb_8d5d_e86f38170eccrow0_col4\" class=\"data row0 col4\" >0.9998</td>\n",
       "                        <td id=\"T_44e69626_58ad_11eb_8d5d_e86f38170eccrow0_col5\" class=\"data row0 col5\" >0.0068</td>\n",
       "                        <td id=\"T_44e69626_58ad_11eb_8d5d_e86f38170eccrow0_col6\" class=\"data row0 col6\" >0.0323</td>\n",
       "                        <td id=\"T_44e69626_58ad_11eb_8d5d_e86f38170eccrow0_col7\" class=\"data row0 col7\" >4.5410</td>\n",
       "            </tr>\n",
       "            <tr>\n",
       "                        <th id=\"T_44e69626_58ad_11eb_8d5d_e86f38170ecclevel0_row1\" class=\"row_heading level0 row1\" >lightgbm</th>\n",
       "                        <td id=\"T_44e69626_58ad_11eb_8d5d_e86f38170eccrow1_col0\" class=\"data row1 col0\" >Light Gradient Boosting Machine</td>\n",
       "                        <td id=\"T_44e69626_58ad_11eb_8d5d_e86f38170eccrow1_col1\" class=\"data row1 col1\" >0.0225</td>\n",
       "                        <td id=\"T_44e69626_58ad_11eb_8d5d_e86f38170eccrow1_col2\" class=\"data row1 col2\" >0.0012</td>\n",
       "                        <td id=\"T_44e69626_58ad_11eb_8d5d_e86f38170eccrow1_col3\" class=\"data row1 col3\" >0.0338</td>\n",
       "                        <td id=\"T_44e69626_58ad_11eb_8d5d_e86f38170eccrow1_col4\" class=\"data row1 col4\" >0.9989</td>\n",
       "                        <td id=\"T_44e69626_58ad_11eb_8d5d_e86f38170eccrow1_col5\" class=\"data row1 col5\" >0.0188</td>\n",
       "                        <td id=\"T_44e69626_58ad_11eb_8d5d_e86f38170eccrow1_col6\" class=\"data row1 col6\" >0.0900</td>\n",
       "                        <td id=\"T_44e69626_58ad_11eb_8d5d_e86f38170eccrow1_col7\" class=\"data row1 col7\" >0.1600</td>\n",
       "            </tr>\n",
       "            <tr>\n",
       "                        <th id=\"T_44e69626_58ad_11eb_8d5d_e86f38170ecclevel0_row2\" class=\"row_heading level0 row2\" >xgboost</th>\n",
       "                        <td id=\"T_44e69626_58ad_11eb_8d5d_e86f38170eccrow2_col0\" class=\"data row2 col0\" >Extreme Gradient Boosting</td>\n",
       "                        <td id=\"T_44e69626_58ad_11eb_8d5d_e86f38170eccrow2_col1\" class=\"data row2 col1\" >0.0269</td>\n",
       "                        <td id=\"T_44e69626_58ad_11eb_8d5d_e86f38170eccrow2_col2\" class=\"data row2 col2\" >0.0015</td>\n",
       "                        <td id=\"T_44e69626_58ad_11eb_8d5d_e86f38170eccrow2_col3\" class=\"data row2 col3\" >0.0389</td>\n",
       "                        <td id=\"T_44e69626_58ad_11eb_8d5d_e86f38170eccrow2_col4\" class=\"data row2 col4\" >0.9985</td>\n",
       "                        <td id=\"T_44e69626_58ad_11eb_8d5d_e86f38170eccrow2_col5\" class=\"data row2 col5\" >0.0222</td>\n",
       "                        <td id=\"T_44e69626_58ad_11eb_8d5d_e86f38170eccrow2_col6\" class=\"data row2 col6\" >0.1123</td>\n",
       "                        <td id=\"T_44e69626_58ad_11eb_8d5d_e86f38170eccrow2_col7\" class=\"data row2 col7\" >2.5620</td>\n",
       "            </tr>\n",
       "            <tr>\n",
       "                        <th id=\"T_44e69626_58ad_11eb_8d5d_e86f38170ecclevel0_row3\" class=\"row_heading level0 row3\" >et</th>\n",
       "                        <td id=\"T_44e69626_58ad_11eb_8d5d_e86f38170eccrow3_col0\" class=\"data row3 col0\" >Extra Trees Regressor</td>\n",
       "                        <td id=\"T_44e69626_58ad_11eb_8d5d_e86f38170eccrow3_col1\" class=\"data row3 col1\" >0.0264</td>\n",
       "                        <td id=\"T_44e69626_58ad_11eb_8d5d_e86f38170eccrow3_col2\" class=\"data row3 col2\" >0.0018</td>\n",
       "                        <td id=\"T_44e69626_58ad_11eb_8d5d_e86f38170eccrow3_col3\" class=\"data row3 col3\" >0.0425</td>\n",
       "                        <td id=\"T_44e69626_58ad_11eb_8d5d_e86f38170eccrow3_col4\" class=\"data row3 col4\" >0.9982</td>\n",
       "                        <td id=\"T_44e69626_58ad_11eb_8d5d_e86f38170eccrow3_col5\" class=\"data row3 col5\" >0.0230</td>\n",
       "                        <td id=\"T_44e69626_58ad_11eb_8d5d_e86f38170eccrow3_col6\" class=\"data row3 col6\" >0.1037</td>\n",
       "                        <td id=\"T_44e69626_58ad_11eb_8d5d_e86f38170eccrow3_col7\" class=\"data row3 col7\" >0.7400</td>\n",
       "            </tr>\n",
       "            <tr>\n",
       "                        <th id=\"T_44e69626_58ad_11eb_8d5d_e86f38170ecclevel0_row4\" class=\"row_heading level0 row4\" >rf</th>\n",
       "                        <td id=\"T_44e69626_58ad_11eb_8d5d_e86f38170eccrow4_col0\" class=\"data row4 col0\" >Random Forest Regressor</td>\n",
       "                        <td id=\"T_44e69626_58ad_11eb_8d5d_e86f38170eccrow4_col1\" class=\"data row4 col1\" >0.0324</td>\n",
       "                        <td id=\"T_44e69626_58ad_11eb_8d5d_e86f38170eccrow4_col2\" class=\"data row4 col2\" >0.0027</td>\n",
       "                        <td id=\"T_44e69626_58ad_11eb_8d5d_e86f38170eccrow4_col3\" class=\"data row4 col3\" >0.0518</td>\n",
       "                        <td id=\"T_44e69626_58ad_11eb_8d5d_e86f38170eccrow4_col4\" class=\"data row4 col4\" >0.9973</td>\n",
       "                        <td id=\"T_44e69626_58ad_11eb_8d5d_e86f38170eccrow4_col5\" class=\"data row4 col5\" >0.0284</td>\n",
       "                        <td id=\"T_44e69626_58ad_11eb_8d5d_e86f38170eccrow4_col6\" class=\"data row4 col6\" >0.1289</td>\n",
       "                        <td id=\"T_44e69626_58ad_11eb_8d5d_e86f38170eccrow4_col7\" class=\"data row4 col7\" >0.8460</td>\n",
       "            </tr>\n",
       "            <tr>\n",
       "                        <th id=\"T_44e69626_58ad_11eb_8d5d_e86f38170ecclevel0_row5\" class=\"row_heading level0 row5\" >gbr</th>\n",
       "                        <td id=\"T_44e69626_58ad_11eb_8d5d_e86f38170eccrow5_col0\" class=\"data row5 col0\" >Gradient Boosting Regressor</td>\n",
       "                        <td id=\"T_44e69626_58ad_11eb_8d5d_e86f38170eccrow5_col1\" class=\"data row5 col1\" >0.0425</td>\n",
       "                        <td id=\"T_44e69626_58ad_11eb_8d5d_e86f38170eccrow5_col2\" class=\"data row5 col2\" >0.0036</td>\n",
       "                        <td id=\"T_44e69626_58ad_11eb_8d5d_e86f38170eccrow5_col3\" class=\"data row5 col3\" >0.0594</td>\n",
       "                        <td id=\"T_44e69626_58ad_11eb_8d5d_e86f38170eccrow5_col4\" class=\"data row5 col4\" >0.9965</td>\n",
       "                        <td id=\"T_44e69626_58ad_11eb_8d5d_e86f38170eccrow5_col5\" class=\"data row5 col5\" >0.0348</td>\n",
       "                        <td id=\"T_44e69626_58ad_11eb_8d5d_e86f38170eccrow5_col6\" class=\"data row5 col6\" >0.1687</td>\n",
       "                        <td id=\"T_44e69626_58ad_11eb_8d5d_e86f38170eccrow5_col7\" class=\"data row5 col7\" >0.3400</td>\n",
       "            </tr>\n",
       "            <tr>\n",
       "                        <th id=\"T_44e69626_58ad_11eb_8d5d_e86f38170ecclevel0_row6\" class=\"row_heading level0 row6\" >dt</th>\n",
       "                        <td id=\"T_44e69626_58ad_11eb_8d5d_e86f38170eccrow6_col0\" class=\"data row6 col0\" >Decision Tree Regressor</td>\n",
       "                        <td id=\"T_44e69626_58ad_11eb_8d5d_e86f38170eccrow6_col1\" class=\"data row6 col1\" >0.0613</td>\n",
       "                        <td id=\"T_44e69626_58ad_11eb_8d5d_e86f38170eccrow6_col2\" class=\"data row6 col2\" >0.0090</td>\n",
       "                        <td id=\"T_44e69626_58ad_11eb_8d5d_e86f38170eccrow6_col3\" class=\"data row6 col3\" >0.0947</td>\n",
       "                        <td id=\"T_44e69626_58ad_11eb_8d5d_e86f38170eccrow6_col4\" class=\"data row6 col4\" >0.9910</td>\n",
       "                        <td id=\"T_44e69626_58ad_11eb_8d5d_e86f38170eccrow6_col5\" class=\"data row6 col5\" >0.0515</td>\n",
       "                        <td id=\"T_44e69626_58ad_11eb_8d5d_e86f38170eccrow6_col6\" class=\"data row6 col6\" >0.2474</td>\n",
       "                        <td id=\"T_44e69626_58ad_11eb_8d5d_e86f38170eccrow6_col7\" class=\"data row6 col7\" >0.0240</td>\n",
       "            </tr>\n",
       "            <tr>\n",
       "                        <th id=\"T_44e69626_58ad_11eb_8d5d_e86f38170ecclevel0_row7\" class=\"row_heading level0 row7\" >ridge</th>\n",
       "                        <td id=\"T_44e69626_58ad_11eb_8d5d_e86f38170eccrow7_col0\" class=\"data row7 col0\" >Ridge Regression</td>\n",
       "                        <td id=\"T_44e69626_58ad_11eb_8d5d_e86f38170eccrow7_col1\" class=\"data row7 col1\" >0.1350</td>\n",
       "                        <td id=\"T_44e69626_58ad_11eb_8d5d_e86f38170eccrow7_col2\" class=\"data row7 col2\" >0.0333</td>\n",
       "                        <td id=\"T_44e69626_58ad_11eb_8d5d_e86f38170eccrow7_col3\" class=\"data row7 col3\" >0.1825</td>\n",
       "                        <td id=\"T_44e69626_58ad_11eb_8d5d_e86f38170eccrow7_col4\" class=\"data row7 col4\" >0.9668</td>\n",
       "                        <td id=\"T_44e69626_58ad_11eb_8d5d_e86f38170eccrow7_col5\" class=\"data row7 col5\" >0.0910</td>\n",
       "                        <td id=\"T_44e69626_58ad_11eb_8d5d_e86f38170eccrow7_col6\" class=\"data row7 col6\" >0.4803</td>\n",
       "                        <td id=\"T_44e69626_58ad_11eb_8d5d_e86f38170eccrow7_col7\" class=\"data row7 col7\" >0.0150</td>\n",
       "            </tr>\n",
       "            <tr>\n",
       "                        <th id=\"T_44e69626_58ad_11eb_8d5d_e86f38170ecclevel0_row8\" class=\"row_heading level0 row8\" >lar</th>\n",
       "                        <td id=\"T_44e69626_58ad_11eb_8d5d_e86f38170eccrow8_col0\" class=\"data row8 col0\" >Least Angle Regression</td>\n",
       "                        <td id=\"T_44e69626_58ad_11eb_8d5d_e86f38170eccrow8_col1\" class=\"data row8 col1\" >0.1350</td>\n",
       "                        <td id=\"T_44e69626_58ad_11eb_8d5d_e86f38170eccrow8_col2\" class=\"data row8 col2\" >0.0333</td>\n",
       "                        <td id=\"T_44e69626_58ad_11eb_8d5d_e86f38170eccrow8_col3\" class=\"data row8 col3\" >0.1825</td>\n",
       "                        <td id=\"T_44e69626_58ad_11eb_8d5d_e86f38170eccrow8_col4\" class=\"data row8 col4\" >0.9668</td>\n",
       "                        <td id=\"T_44e69626_58ad_11eb_8d5d_e86f38170eccrow8_col5\" class=\"data row8 col5\" >0.0910</td>\n",
       "                        <td id=\"T_44e69626_58ad_11eb_8d5d_e86f38170eccrow8_col6\" class=\"data row8 col6\" >0.4802</td>\n",
       "                        <td id=\"T_44e69626_58ad_11eb_8d5d_e86f38170eccrow8_col7\" class=\"data row8 col7\" >0.0110</td>\n",
       "            </tr>\n",
       "            <tr>\n",
       "                        <th id=\"T_44e69626_58ad_11eb_8d5d_e86f38170ecclevel0_row9\" class=\"row_heading level0 row9\" >br</th>\n",
       "                        <td id=\"T_44e69626_58ad_11eb_8d5d_e86f38170eccrow9_col0\" class=\"data row9 col0\" >Bayesian Ridge</td>\n",
       "                        <td id=\"T_44e69626_58ad_11eb_8d5d_e86f38170eccrow9_col1\" class=\"data row9 col1\" >0.1350</td>\n",
       "                        <td id=\"T_44e69626_58ad_11eb_8d5d_e86f38170eccrow9_col2\" class=\"data row9 col2\" >0.0333</td>\n",
       "                        <td id=\"T_44e69626_58ad_11eb_8d5d_e86f38170eccrow9_col3\" class=\"data row9 col3\" >0.1825</td>\n",
       "                        <td id=\"T_44e69626_58ad_11eb_8d5d_e86f38170eccrow9_col4\" class=\"data row9 col4\" >0.9668</td>\n",
       "                        <td id=\"T_44e69626_58ad_11eb_8d5d_e86f38170eccrow9_col5\" class=\"data row9 col5\" >0.0910</td>\n",
       "                        <td id=\"T_44e69626_58ad_11eb_8d5d_e86f38170eccrow9_col6\" class=\"data row9 col6\" >0.4802</td>\n",
       "                        <td id=\"T_44e69626_58ad_11eb_8d5d_e86f38170eccrow9_col7\" class=\"data row9 col7\" >0.0090</td>\n",
       "            </tr>\n",
       "            <tr>\n",
       "                        <th id=\"T_44e69626_58ad_11eb_8d5d_e86f38170ecclevel0_row10\" class=\"row_heading level0 row10\" >ada</th>\n",
       "                        <td id=\"T_44e69626_58ad_11eb_8d5d_e86f38170eccrow10_col0\" class=\"data row10 col0\" >AdaBoost Regressor</td>\n",
       "                        <td id=\"T_44e69626_58ad_11eb_8d5d_e86f38170eccrow10_col1\" class=\"data row10 col1\" >0.1510</td>\n",
       "                        <td id=\"T_44e69626_58ad_11eb_8d5d_e86f38170eccrow10_col2\" class=\"data row10 col2\" >0.0356</td>\n",
       "                        <td id=\"T_44e69626_58ad_11eb_8d5d_e86f38170eccrow10_col3\" class=\"data row10 col3\" >0.1887</td>\n",
       "                        <td id=\"T_44e69626_58ad_11eb_8d5d_e86f38170eccrow10_col4\" class=\"data row10 col4\" >0.9645</td>\n",
       "                        <td id=\"T_44e69626_58ad_11eb_8d5d_e86f38170eccrow10_col5\" class=\"data row10 col5\" >0.1011</td>\n",
       "                        <td id=\"T_44e69626_58ad_11eb_8d5d_e86f38170eccrow10_col6\" class=\"data row10 col6\" >0.4866</td>\n",
       "                        <td id=\"T_44e69626_58ad_11eb_8d5d_e86f38170eccrow10_col7\" class=\"data row10 col7\" >0.1990</td>\n",
       "            </tr>\n",
       "            <tr>\n",
       "                        <th id=\"T_44e69626_58ad_11eb_8d5d_e86f38170ecclevel0_row11\" class=\"row_heading level0 row11\" >lr</th>\n",
       "                        <td id=\"T_44e69626_58ad_11eb_8d5d_e86f38170eccrow11_col0\" class=\"data row11 col0\" >Linear Regression</td>\n",
       "                        <td id=\"T_44e69626_58ad_11eb_8d5d_e86f38170eccrow11_col1\" class=\"data row11 col1\" >0.2161</td>\n",
       "                        <td id=\"T_44e69626_58ad_11eb_8d5d_e86f38170eccrow11_col2\" class=\"data row11 col2\" >0.0766</td>\n",
       "                        <td id=\"T_44e69626_58ad_11eb_8d5d_e86f38170eccrow11_col3\" class=\"data row11 col3\" >0.2766</td>\n",
       "                        <td id=\"T_44e69626_58ad_11eb_8d5d_e86f38170eccrow11_col4\" class=\"data row11 col4\" >0.9237</td>\n",
       "                        <td id=\"T_44e69626_58ad_11eb_8d5d_e86f38170eccrow11_col5\" class=\"data row11 col5\" >0.1402</td>\n",
       "                        <td id=\"T_44e69626_58ad_11eb_8d5d_e86f38170eccrow11_col6\" class=\"data row11 col6\" >0.7732</td>\n",
       "                        <td id=\"T_44e69626_58ad_11eb_8d5d_e86f38170eccrow11_col7\" class=\"data row11 col7\" >1.1090</td>\n",
       "            </tr>\n",
       "            <tr>\n",
       "                        <th id=\"T_44e69626_58ad_11eb_8d5d_e86f38170ecclevel0_row12\" class=\"row_heading level0 row12\" >omp</th>\n",
       "                        <td id=\"T_44e69626_58ad_11eb_8d5d_e86f38170eccrow12_col0\" class=\"data row12 col0\" >Orthogonal Matching Pursuit</td>\n",
       "                        <td id=\"T_44e69626_58ad_11eb_8d5d_e86f38170eccrow12_col1\" class=\"data row12 col1\" >0.2194</td>\n",
       "                        <td id=\"T_44e69626_58ad_11eb_8d5d_e86f38170eccrow12_col2\" class=\"data row12 col2\" >0.0888</td>\n",
       "                        <td id=\"T_44e69626_58ad_11eb_8d5d_e86f38170eccrow12_col3\" class=\"data row12 col3\" >0.2980</td>\n",
       "                        <td id=\"T_44e69626_58ad_11eb_8d5d_e86f38170eccrow12_col4\" class=\"data row12 col4\" >0.9114</td>\n",
       "                        <td id=\"T_44e69626_58ad_11eb_8d5d_e86f38170eccrow12_col5\" class=\"data row12 col5\" >0.1508</td>\n",
       "                        <td id=\"T_44e69626_58ad_11eb_8d5d_e86f38170eccrow12_col6\" class=\"data row12 col6\" >0.8751</td>\n",
       "                        <td id=\"T_44e69626_58ad_11eb_8d5d_e86f38170eccrow12_col7\" class=\"data row12 col7\" >0.0100</td>\n",
       "            </tr>\n",
       "            <tr>\n",
       "                        <th id=\"T_44e69626_58ad_11eb_8d5d_e86f38170ecclevel0_row13\" class=\"row_heading level0 row13\" >en</th>\n",
       "                        <td id=\"T_44e69626_58ad_11eb_8d5d_e86f38170eccrow13_col0\" class=\"data row13 col0\" >Elastic Net</td>\n",
       "                        <td id=\"T_44e69626_58ad_11eb_8d5d_e86f38170eccrow13_col1\" class=\"data row13 col1\" >0.5566</td>\n",
       "                        <td id=\"T_44e69626_58ad_11eb_8d5d_e86f38170eccrow13_col2\" class=\"data row13 col2\" >0.4433</td>\n",
       "                        <td id=\"T_44e69626_58ad_11eb_8d5d_e86f38170eccrow13_col3\" class=\"data row13 col3\" >0.6657</td>\n",
       "                        <td id=\"T_44e69626_58ad_11eb_8d5d_e86f38170eccrow13_col4\" class=\"data row13 col4\" >0.5585</td>\n",
       "                        <td id=\"T_44e69626_58ad_11eb_8d5d_e86f38170eccrow13_col5\" class=\"data row13 col5\" >0.3631</td>\n",
       "                        <td id=\"T_44e69626_58ad_11eb_8d5d_e86f38170eccrow13_col6\" class=\"data row13 col6\" >0.7844</td>\n",
       "                        <td id=\"T_44e69626_58ad_11eb_8d5d_e86f38170eccrow13_col7\" class=\"data row13 col7\" >0.0120</td>\n",
       "            </tr>\n",
       "            <tr>\n",
       "                        <th id=\"T_44e69626_58ad_11eb_8d5d_e86f38170ecclevel0_row14\" class=\"row_heading level0 row14\" >llar</th>\n",
       "                        <td id=\"T_44e69626_58ad_11eb_8d5d_e86f38170eccrow14_col0\" class=\"data row14 col0\" >Lasso Least Angle Regression</td>\n",
       "                        <td id=\"T_44e69626_58ad_11eb_8d5d_e86f38170eccrow14_col1\" class=\"data row14 col1\" >0.8512</td>\n",
       "                        <td id=\"T_44e69626_58ad_11eb_8d5d_e86f38170eccrow14_col2\" class=\"data row14 col2\" >1.0044</td>\n",
       "                        <td id=\"T_44e69626_58ad_11eb_8d5d_e86f38170eccrow14_col3\" class=\"data row14 col3\" >1.0022</td>\n",
       "                        <td id=\"T_44e69626_58ad_11eb_8d5d_e86f38170eccrow14_col4\" class=\"data row14 col4\" >-0.0005</td>\n",
       "                        <td id=\"T_44e69626_58ad_11eb_8d5d_e86f38170eccrow14_col5\" class=\"data row14 col5\" >0.6407</td>\n",
       "                        <td id=\"T_44e69626_58ad_11eb_8d5d_e86f38170eccrow14_col6\" class=\"data row14 col6\" >0.9998</td>\n",
       "                        <td id=\"T_44e69626_58ad_11eb_8d5d_e86f38170eccrow14_col7\" class=\"data row14 col7\" >0.0100</td>\n",
       "            </tr>\n",
       "            <tr>\n",
       "                        <th id=\"T_44e69626_58ad_11eb_8d5d_e86f38170ecclevel0_row15\" class=\"row_heading level0 row15\" >lasso</th>\n",
       "                        <td id=\"T_44e69626_58ad_11eb_8d5d_e86f38170eccrow15_col0\" class=\"data row15 col0\" >Lasso Regression</td>\n",
       "                        <td id=\"T_44e69626_58ad_11eb_8d5d_e86f38170eccrow15_col1\" class=\"data row15 col1\" >0.8512</td>\n",
       "                        <td id=\"T_44e69626_58ad_11eb_8d5d_e86f38170eccrow15_col2\" class=\"data row15 col2\" >1.0046</td>\n",
       "                        <td id=\"T_44e69626_58ad_11eb_8d5d_e86f38170eccrow15_col3\" class=\"data row15 col3\" >1.0022</td>\n",
       "                        <td id=\"T_44e69626_58ad_11eb_8d5d_e86f38170eccrow15_col4\" class=\"data row15 col4\" >-0.0006</td>\n",
       "                        <td id=\"T_44e69626_58ad_11eb_8d5d_e86f38170eccrow15_col5\" class=\"data row15 col5\" >0.6380</td>\n",
       "                        <td id=\"T_44e69626_58ad_11eb_8d5d_e86f38170eccrow15_col6\" class=\"data row15 col6\" >1.0007</td>\n",
       "                        <td id=\"T_44e69626_58ad_11eb_8d5d_e86f38170eccrow15_col7\" class=\"data row15 col7\" >0.0210</td>\n",
       "            </tr>\n",
       "            <tr>\n",
       "                        <th id=\"T_44e69626_58ad_11eb_8d5d_e86f38170ecclevel0_row16\" class=\"row_heading level0 row16\" >huber</th>\n",
       "                        <td id=\"T_44e69626_58ad_11eb_8d5d_e86f38170eccrow16_col0\" class=\"data row16 col0\" >Huber Regressor</td>\n",
       "                        <td id=\"T_44e69626_58ad_11eb_8d5d_e86f38170eccrow16_col1\" class=\"data row16 col1\" >0.8467</td>\n",
       "                        <td id=\"T_44e69626_58ad_11eb_8d5d_e86f38170eccrow16_col2\" class=\"data row16 col2\" >1.0080</td>\n",
       "                        <td id=\"T_44e69626_58ad_11eb_8d5d_e86f38170eccrow16_col3\" class=\"data row16 col3\" >1.0039</td>\n",
       "                        <td id=\"T_44e69626_58ad_11eb_8d5d_e86f38170eccrow16_col4\" class=\"data row16 col4\" >-0.0041</td>\n",
       "                        <td id=\"T_44e69626_58ad_11eb_8d5d_e86f38170eccrow16_col5\" class=\"data row16 col5\" >0.5918</td>\n",
       "                        <td id=\"T_44e69626_58ad_11eb_8d5d_e86f38170eccrow16_col6\" class=\"data row16 col6\" >1.0759</td>\n",
       "                        <td id=\"T_44e69626_58ad_11eb_8d5d_e86f38170eccrow16_col7\" class=\"data row16 col7\" >0.0160</td>\n",
       "            </tr>\n",
       "            <tr>\n",
       "                        <th id=\"T_44e69626_58ad_11eb_8d5d_e86f38170ecclevel0_row17\" class=\"row_heading level0 row17\" >knn</th>\n",
       "                        <td id=\"T_44e69626_58ad_11eb_8d5d_e86f38170eccrow17_col0\" class=\"data row17 col0\" >K Neighbors Regressor</td>\n",
       "                        <td id=\"T_44e69626_58ad_11eb_8d5d_e86f38170eccrow17_col1\" class=\"data row17 col1\" >0.9100</td>\n",
       "                        <td id=\"T_44e69626_58ad_11eb_8d5d_e86f38170eccrow17_col2\" class=\"data row17 col2\" >1.2039</td>\n",
       "                        <td id=\"T_44e69626_58ad_11eb_8d5d_e86f38170eccrow17_col3\" class=\"data row17 col3\" >1.0972</td>\n",
       "                        <td id=\"T_44e69626_58ad_11eb_8d5d_e86f38170eccrow17_col4\" class=\"data row17 col4\" >-0.1996</td>\n",
       "                        <td id=\"T_44e69626_58ad_11eb_8d5d_e86f38170eccrow17_col5\" class=\"data row17 col5\" >0.4445</td>\n",
       "                        <td id=\"T_44e69626_58ad_11eb_8d5d_e86f38170eccrow17_col6\" class=\"data row17 col6\" >1.8943</td>\n",
       "                        <td id=\"T_44e69626_58ad_11eb_8d5d_e86f38170eccrow17_col7\" class=\"data row17 col7\" >0.0350</td>\n",
       "            </tr>\n",
       "            <tr>\n",
       "                        <th id=\"T_44e69626_58ad_11eb_8d5d_e86f38170ecclevel0_row18\" class=\"row_heading level0 row18\" >par</th>\n",
       "                        <td id=\"T_44e69626_58ad_11eb_8d5d_e86f38170eccrow18_col0\" class=\"data row18 col0\" >Passive Aggressive Regressor</td>\n",
       "                        <td id=\"T_44e69626_58ad_11eb_8d5d_e86f38170eccrow18_col1\" class=\"data row18 col1\" >1.0982</td>\n",
       "                        <td id=\"T_44e69626_58ad_11eb_8d5d_e86f38170eccrow18_col2\" class=\"data row18 col2\" >2.0038</td>\n",
       "                        <td id=\"T_44e69626_58ad_11eb_8d5d_e86f38170eccrow18_col3\" class=\"data row18 col3\" >1.3940</td>\n",
       "                        <td id=\"T_44e69626_58ad_11eb_8d5d_e86f38170eccrow18_col4\" class=\"data row18 col4\" >-0.9960</td>\n",
       "                        <td id=\"T_44e69626_58ad_11eb_8d5d_e86f38170eccrow18_col5\" class=\"data row18 col5\" >0.3629</td>\n",
       "                        <td id=\"T_44e69626_58ad_11eb_8d5d_e86f38170eccrow18_col6\" class=\"data row18 col6\" >3.7488</td>\n",
       "                        <td id=\"T_44e69626_58ad_11eb_8d5d_e86f38170eccrow18_col7\" class=\"data row18 col7\" >0.0130</td>\n",
       "            </tr>\n",
       "    </tbody></table>"
      ],
      "text/plain": [
       "<pandas.io.formats.style.Styler at 0x216d69b5148>"
      ]
     },
     "metadata": {},
     "output_type": "display_data"
    },
    {
     "data": {
      "text/plain": [
       "<catboost.core.CatBoostRegressor at 0x216d699ffc8>"
      ]
     },
     "execution_count": 58,
     "metadata": {},
     "output_type": "execute_result"
    }
   ],
   "source": [
    "compare_models()\n"
   ]
  },
  {
   "cell_type": "markdown",
   "metadata": {},
   "source": [
    "Catboost Regressor performs the best with 0.998 R2 and least error"
   ]
  },
  {
   "cell_type": "code",
   "execution_count": null,
   "metadata": {},
   "outputs": [],
   "source": []
  },
  {
   "cell_type": "code",
   "execution_count": null,
   "metadata": {},
   "outputs": [],
   "source": []
  },
  {
   "cell_type": "code",
   "execution_count": null,
   "metadata": {},
   "outputs": [],
   "source": []
  },
  {
   "cell_type": "code",
   "execution_count": null,
   "metadata": {},
   "outputs": [],
   "source": []
  }
 ],
 "metadata": {
  "kernelspec": {
   "display_name": "Python 3",
   "language": "python",
   "name": "python3"
  },
  "language_info": {
   "codemirror_mode": {
    "name": "ipython",
    "version": 3
   },
   "file_extension": ".py",
   "mimetype": "text/x-python",
   "name": "python",
   "nbconvert_exporter": "python",
   "pygments_lexer": "ipython3",
   "version": "3.7.6"
  }
 },
 "nbformat": 4,
 "nbformat_minor": 4
}
